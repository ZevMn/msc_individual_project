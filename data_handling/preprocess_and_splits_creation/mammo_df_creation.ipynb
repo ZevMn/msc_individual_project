{
 "cells": [
  {
   "cell_type": "markdown",
   "metadata": {},
   "source": [
    "# Create EMBED splits\n",
    "This notebook takes care of creating the train/val/test splits csv used throughout this project."
   ]
  },
  {
   "cell_type": "code",
   "execution_count": 1,
   "metadata": {},
   "outputs": [],
   "source": [
    "import pandas as pd\n",
    "from pathlib import Path\n",
    "import sys\n",
    "\n",
    "project_root = Path().resolve().parent.parent\n",
    "sys.path.append(str(project_root))\n",
    "\n",
    "from data_handling.mammo import domain_maps, modelname_map, tissue_maps\n",
    "from default_paths import EMBED_ROOT\n",
    "from sklearn.model_selection import train_test_split\n",
    "import numpy as np"
   ]
  },
  {
   "cell_type": "markdown",
   "metadata": {},
   "source": [
    "## Create main EMBED csv \n",
    "These cells take care of merging the oroginal metadata and clinical csv, remove invalid views, convert density to numerical scale etc. "
   ]
  },
  {
   "cell_type": "code",
   "execution_count": 2,
   "metadata": {},
   "outputs": [
    {
     "name": "stdout",
     "output_type": "stream",
     "text": [
      "480323\n",
      "480323\n"
     ]
    }
   ],
   "source": [
    "full_dicom = pd.read_csv(\n",
    "    EMBED_ROOT / \"tables/EMBED_OpenData_metadata.csv\", low_memory=False\n",
    ")[\n",
    "    [\n",
    "        \"InstanceNumber\",\n",
    "        \"anon_dicom_path\",\n",
    "        \"PixelSpacing\",\n",
    "        \"ImagerPixelSpacing\",\n",
    "        \"Rows\",\n",
    "        \"Columns\",\n",
    "    ]\n",
    "]\n",
    "\n",
    "\n",
    "dicom = pd.read_csv(\n",
    "    EMBED_ROOT / \"tables/EMBED_OpenData_metadata_reduced.csv\", low_memory=False\n",
    ")\n",
    "print(len(dicom))\n",
    "dicom = dicom.merge(full_dicom, on=\"anon_dicom_path\")\n",
    "print(len(dicom))\n",
    "dicom[\"image_path\"] = (\n",
    "    dicom[\"empi_anon\"].astype(\"str\")\n",
    "    + \"/\"\n",
    "    + dicom[\"anon_dicom_path\"].str.split(\"/\").str[-1].str.split(\".dcm\").str[0]\n",
    "    + \".png\"\n",
    ")"
   ]
  },
  {
   "cell_type": "code",
   "execution_count": 3,
   "metadata": {},
   "outputs": [
    {
     "name": "stderr",
     "output_type": "stream",
     "text": [
      "/tmp/ipykernel_1722992/2763465711.py:13: SettingWithCopyWarning: \n",
      "A value is trying to be set on a copy of a slice from a DataFrame.\n",
      "Try using .loc[row_indexer,col_indexer] = value instead\n",
      "\n",
      "See the caveats in the documentation: https://pandas.pydata.org/pandas-docs/stable/user_guide/indexing.html#returning-a-view-versus-a-copy\n",
      "  view_nan[\"ViewPosition\"] = view_nan[\"SeriesDescription\"].apply(\n"
     ]
    },
    {
     "name": "stdout",
     "output_type": "stream",
     "text": [
      "480323\n",
      "420457\n"
     ]
    }
   ],
   "source": [
    "# XCCL shouldn't be converted to CC so manually editing it\n",
    "dicom.loc[\n",
    "    (dicom[\"SeriesDescription\"] == \"RXCCL\") | (dicom[\"SeriesDescription\"] == \"LXCCL\"),\n",
    "    \"ViewPosition\",\n",
    "] = \"XCCL\"\n",
    "\n",
    "# Getting all rows with \"ViewPosition\" == Nan (but for which SeriesDescription is also not nan, as these are the ones subject to the data entry error)\n",
    "view_nan = dicom.loc[(dicom.ViewPosition.isna()) & (~dicom.SeriesDescription.isna())]\n",
    "\n",
    "# Drop these rows from\n",
    "dicom_no_nans = dicom[~dicom.index.isin(view_nan.index)]\n",
    "\n",
    "view_nan[\"ViewPosition\"] = view_nan[\"SeriesDescription\"].apply(\n",
    "    lambda x: \"CC\" if \"CC\" in x else (\"MLO\" if \"MLO\" in x else None)\n",
    ")\n",
    "\n",
    "dicom = pd.concat([dicom_no_nans, view_nan], axis=0, ignore_index=True)\n",
    "\n",
    "print(len(dicom))\n",
    "# Remove any duplicated images\n",
    "dicom = dicom.drop_duplicates(subset=\"anon_dicom_path\")\n",
    "# Remove spot compressed and magnified images\n",
    "dicom = dicom[dicom.spot_mag.isna()]\n",
    "# Remove invalid views\n",
    "dicom = dicom[dicom.ViewPosition.isin([\"CC\", \"MLO\"])]\n",
    "# Remove images from male clients\n",
    "dicom = dicom[dicom.PatientSex == \"F\"]\n",
    "print(len(dicom))"
   ]
  },
  {
   "cell_type": "code",
   "execution_count": 4,
   "metadata": {},
   "outputs": [],
   "source": [
    "# Remove any unnecessary fields from the DICOM imagewise dataframe (this may need to be updated in the future if other fields are deemed relevant)\n",
    "dicom = dicom[\n",
    "    [\n",
    "        \"empi_anon\",\n",
    "        \"acc_anon\",\n",
    "        \"image_path\",\n",
    "        \"FinalImageType\",\n",
    "        \"ImageLateralityFinal\",\n",
    "        \"ViewPosition\",\n",
    "        \"Manufacturer\",\n",
    "        \"ManufacturerModelName\",\n",
    "    ]\n",
    "]"
   ]
  },
  {
   "cell_type": "code",
   "execution_count": 5,
   "metadata": {},
   "outputs": [
    {
     "name": "stdout",
     "output_type": "stream",
     "text": [
      "81776\n",
      "72188\n"
     ]
    }
   ],
   "source": [
    "# Conversion dictionary to standardised naming of various fields in clincial metadata\n",
    "\n",
    "# Human reader BIRADS density assessment\n",
    "dens_conversion = {1.0: \"A\", 2.0: \"B\", 3.0: \"C\", 4.0: \"D\"}\n",
    "\n",
    "# Load in the clinical metadata\n",
    "mag = pd.read_csv(EMBED_ROOT / \"tables/EMBED_OpenData_clinical.csv\", low_memory=False)\n",
    "print(len(mag))\n",
    "# Remove cases from cases a valid BIRADS density assessment\n",
    "mag = mag[mag.tissueden.isin([1.0, 2.0, 3.0, 4.0])]\n",
    "mag.replace({\"tissueden\": dens_conversion}, inplace=True)\n",
    "\n",
    "\n",
    "# Keep important study metadata tags to join up with final aggregated dataframe at end of script\n",
    "mag = mag[[\"empi_anon\", \"tissueden\", \"study_date_anon\", \"acc_anon\"]].drop_duplicates(\n",
    "    subset=\"acc_anon\"\n",
    ")\n",
    "print(len(mag))\n",
    "\n",
    "# Convert to pandas datetime object\n",
    "mag[\"study_date_anon\"] = pd.to_datetime(mag[\"study_date_anon\"], errors=\"coerce\")"
   ]
  },
  {
   "cell_type": "code",
   "execution_count": 6,
   "metadata": {},
   "outputs": [
    {
     "data": {
      "application/vnd.microsoft.datawrangler.viewer.v0+json": {
       "columns": [
        {
         "name": "Manufacturer",
         "rawType": "object",
         "type": "string"
        },
        {
         "name": "count",
         "rawType": "int64",
         "type": "integer"
        }
       ],
       "ref": "30408b95-d049-4859-bf98-d65bb570dd56",
       "rows": [
        [
         "HOLOGIC, Inc.",
         "386257"
        ],
        [
         "GE MEDICAL SYSTEMS",
         "25569"
        ],
        [
         "FUJIFILM Corporation",
         "8133"
        ],
        [
         "GE HEALTHCARE",
         "498"
        ]
       ],
       "shape": {
        "columns": 1,
        "rows": 4
       }
      },
      "text/plain": [
       "Manufacturer\n",
       "HOLOGIC, Inc.           386257\n",
       "GE MEDICAL SYSTEMS       25569\n",
       "FUJIFILM Corporation      8133\n",
       "GE HEALTHCARE              498\n",
       "Name: count, dtype: int64"
      ]
     },
     "execution_count": 6,
     "metadata": {},
     "output_type": "execute_result"
    }
   ],
   "source": [
    "dicom.Manufacturer.value_counts()"
   ]
  },
  {
   "cell_type": "code",
   "execution_count": 7,
   "metadata": {},
   "outputs": [
    {
     "name": "stdout",
     "output_type": "stream",
     "text": [
      "420457\n",
      "418784\n"
     ]
    }
   ],
   "source": [
    "# Only consider studies which have a valid link between the DICOM and clinical metadata\n",
    "print(len(dicom))\n",
    "df = mag.merge(dicom, on=[\"acc_anon\", \"empi_anon\"])\n",
    "print(len(df))"
   ]
  },
  {
   "cell_type": "code",
   "execution_count": 8,
   "metadata": {},
   "outputs": [],
   "source": [
    "path_to_repo_root = \"/vol/biomedic3/bglocker/mscproj/zm1224/msc_individual_project/\"\n",
    "df.to_csv(Path(path_to_repo_root) / \"data_handling\" / \"embed_full.csv\", index=False)"
   ]
  },
  {
   "cell_type": "markdown",
   "metadata": {},
   "source": [
    "## Create the splits"
   ]
  },
  {
   "cell_type": "code",
   "execution_count": 9,
   "metadata": {},
   "outputs": [
    {
     "name": "stdout",
     "output_type": "stream",
     "text": [
      "SimpleModelLabel\n",
      "0    374157\n",
      "2     13268\n",
      "5     12218\n",
      "3     10515\n",
      "4      8128\n",
      "1       498\n",
      "Name: count, dtype: int64\n"
     ]
    },
    {
     "data": {
      "application/vnd.microsoft.datawrangler.viewer.v0+json": {
       "columns": [
        {
         "name": "tissueden",
         "rawType": "int64",
         "type": "integer"
        },
        {
         "name": "proportion",
         "rawType": "float64",
         "type": "float"
        }
       ],
       "ref": "0375dc52-56dc-43b3-9261-1047aa743517",
       "rows": [
        [
         "1",
         "0.42215079850233056"
        ],
        [
         "2",
         "0.4113385420646443"
        ],
        [
         "0",
         "0.11199090700695347"
        ],
        [
         "3",
         "0.054519752426071676"
        ]
       ],
       "shape": {
        "columns": 1,
        "rows": 4
       }
      },
      "text/plain": [
       "tissueden\n",
       "1    0.422151\n",
       "2    0.411339\n",
       "0    0.111991\n",
       "3    0.054520\n",
       "Name: proportion, dtype: float64"
      ]
     },
     "execution_count": 9,
     "metadata": {},
     "output_type": "execute_result"
    }
   ],
   "source": [
    "image_dir = EMBED_ROOT / Path(\"images/png/1024x768\")\n",
    "\n",
    "try:\n",
    "    df = pd.read_csv(Path(path_to_repo_root) / \"data_handling\" / \"embed_full.csv\")\n",
    "except FileNotFoundError:\n",
    "    print(\n",
    "        \"\"\"\n",
    "        For running EMBED code you need to first generate the csv\n",
    "        file used for this study by running the cells above\n",
    "        \"\"\"\n",
    "    )\n",
    "\n",
    "df[\"shortimgpath\"] = df[\"image_path\"]\n",
    "df[\"image_path\"] = df[\"image_path\"].apply(lambda x: image_dir / str(x))\n",
    "\n",
    "df[\"manufacturer_domain\"] = df.Manufacturer.apply(lambda x: domain_maps[x])\n",
    "\n",
    "# convert tissueden to trainable label\n",
    "df[\"tissueden\"] = df.tissueden.apply(lambda x: tissue_maps[x])\n",
    "\n",
    "df[\"SimpleModelLabel\"] = df.ManufacturerModelName.apply(lambda x: modelname_map[x])\n",
    "print(df.SimpleModelLabel.value_counts())\n",
    "df[\"ViewLabel\"] = df.ViewPosition.apply(lambda x: 0 if x == \"MLO\" else 1)\n",
    "\n",
    "\n",
    "df = df.dropna(\n",
    "    subset=[\n",
    "        \"tissueden\",\n",
    "        \"SimpleModelLabel\",\n",
    "        \"ViewLabel\",\n",
    "        \"image_path\",\n",
    "    ]\n",
    ")\n",
    "\n",
    "df[\"tissueden\"].value_counts(normalize=True)"
   ]
  },
  {
   "cell_type": "code",
   "execution_count": 10,
   "metadata": {},
   "outputs": [
    {
     "name": "stdout",
     "output_type": "stream",
     "text": [
      "[0.09846894 0.41614173 0.42699038 0.05839895]\n"
     ]
    },
    {
     "data": {
      "application/vnd.microsoft.datawrangler.viewer.v0+json": {
       "columns": [
        {
         "name": "SimpleModelLabel",
         "rawType": "int64",
         "type": "integer"
        },
        {
         "name": "0",
         "rawType": "int64",
         "type": "integer"
        },
        {
         "name": "1",
         "rawType": "int64",
         "type": "integer"
        },
        {
         "name": "2",
         "rawType": "int64",
         "type": "integer"
        },
        {
         "name": "3",
         "rawType": "int64",
         "type": "integer"
        }
       ],
       "ref": "a2a676a6-3dc8-4d8f-8772-d34d47855485",
       "rows": [
        [
         "0",
         "1136",
         "5080",
         "6332",
         "1112"
        ],
        [
         "1",
         "0",
         "16",
         "8",
         "16"
        ],
        [
         "2",
         "24",
         "620",
         "768",
         "60"
        ],
        [
         "3",
         "108",
         "300",
         "436",
         "28"
        ],
        [
         "4",
         "100",
         "612",
         "584",
         "44"
        ],
        [
         "5",
         "92",
         "660",
         "512",
         "36"
        ]
       ],
       "shape": {
        "columns": 4,
        "rows": 6
       }
      },
      "text/html": [
       "<div>\n",
       "<style scoped>\n",
       "    .dataframe tbody tr th:only-of-type {\n",
       "        vertical-align: middle;\n",
       "    }\n",
       "\n",
       "    .dataframe tbody tr th {\n",
       "        vertical-align: top;\n",
       "    }\n",
       "\n",
       "    .dataframe thead th {\n",
       "        text-align: right;\n",
       "    }\n",
       "</style>\n",
       "<table border=\"1\" class=\"dataframe\">\n",
       "  <thead>\n",
       "    <tr style=\"text-align: right;\">\n",
       "      <th>tissueden</th>\n",
       "      <th>0</th>\n",
       "      <th>1</th>\n",
       "      <th>2</th>\n",
       "      <th>3</th>\n",
       "    </tr>\n",
       "    <tr>\n",
       "      <th>SimpleModelLabel</th>\n",
       "      <th></th>\n",
       "      <th></th>\n",
       "      <th></th>\n",
       "      <th></th>\n",
       "    </tr>\n",
       "  </thead>\n",
       "  <tbody>\n",
       "    <tr>\n",
       "      <th>0</th>\n",
       "      <td>1136</td>\n",
       "      <td>5080</td>\n",
       "      <td>6332</td>\n",
       "      <td>1112</td>\n",
       "    </tr>\n",
       "    <tr>\n",
       "      <th>1</th>\n",
       "      <td>0</td>\n",
       "      <td>16</td>\n",
       "      <td>8</td>\n",
       "      <td>16</td>\n",
       "    </tr>\n",
       "    <tr>\n",
       "      <th>2</th>\n",
       "      <td>24</td>\n",
       "      <td>620</td>\n",
       "      <td>768</td>\n",
       "      <td>60</td>\n",
       "    </tr>\n",
       "    <tr>\n",
       "      <th>3</th>\n",
       "      <td>108</td>\n",
       "      <td>300</td>\n",
       "      <td>436</td>\n",
       "      <td>28</td>\n",
       "    </tr>\n",
       "    <tr>\n",
       "      <th>4</th>\n",
       "      <td>100</td>\n",
       "      <td>612</td>\n",
       "      <td>584</td>\n",
       "      <td>44</td>\n",
       "    </tr>\n",
       "    <tr>\n",
       "      <th>5</th>\n",
       "      <td>92</td>\n",
       "      <td>660</td>\n",
       "      <td>512</td>\n",
       "      <td>36</td>\n",
       "    </tr>\n",
       "  </tbody>\n",
       "</table>\n",
       "</div>"
      ],
      "text/plain": [
       "tissueden            0     1     2     3\n",
       "SimpleModelLabel                        \n",
       "0                 1136  5080  6332  1112\n",
       "1                    0    16     8    16\n",
       "2                   24   620   768    60\n",
       "3                  108   300   436    28\n",
       "4                  100   612   584    44\n",
       "5                   92   660   512    36"
      ]
     },
     "execution_count": 10,
     "metadata": {},
     "output_type": "execute_result"
    }
   ],
   "source": [
    "df = df.loc[df.FinalImageType == \"2D\"]\n",
    "\n",
    "\n",
    "y = df.groupby(\"empi_anon\")[\"tissueden\"].unique().apply(lambda x: x[0]).values\n",
    "print(np.bincount(y) / np.bincount(y).sum())\n",
    "train_id, val_id = train_test_split(\n",
    "    df.empi_anon.unique(), test_size=0.4, random_state=33, stratify=y\n",
    ")\n",
    "\n",
    "\n",
    "val_test_df = df.loc[df[\"empi_anon\"].isin(val_id)]\n",
    "# Keep only one study by patient\n",
    "studies = (\n",
    "    val_test_df.groupby(\"empi_anon\")[\"acc_anon\"].unique().apply(lambda x: x[0]).values\n",
    ")\n",
    "# For testing filter out all studies for which there is more than the expected 4 images (L/R, MLO/CC).\n",
    "# These are the studies with failed images, images with unexpected stuff. To make sure that the\n",
    "# distribution of val and un-shifted test are the same. Otherwise it might falsily the results.\n",
    "weird = (\n",
    "    df.groupby(\"acc_anon\")[\"acc_anon\"]\n",
    "    .unique()\n",
    "    .index[\n",
    "        np.where(\n",
    "            df.groupby(\"acc_anon\")[\"shortimgpath\"]\n",
    "            .unique()\n",
    "            .apply(lambda x: len(x) != 4)\n",
    "            .values\n",
    "        )[0]\n",
    "    ]\n",
    ")\n",
    "val_test_df = val_test_df.loc[val_test_df[\"acc_anon\"].isin(studies)]\n",
    "val_test_df = val_test_df.loc[~val_test_df[\"acc_anon\"].isin(weird)]\n",
    "\n",
    "pd.crosstab(val_test_df[\"SimpleModelLabel\"], val_test_df[\"tissueden\"])"
   ]
  },
  {
   "cell_type": "code",
   "execution_count": 11,
   "metadata": {},
   "outputs": [
    {
     "data": {
      "application/vnd.microsoft.datawrangler.viewer.v0+json": {
       "columns": [
        {
         "name": "combined_var",
         "rawType": "int64",
         "type": "integer"
        },
        {
         "name": "count",
         "rawType": "int64",
         "type": "integer"
        }
       ],
       "ref": "e1ddbd83-3b7e-4d02-b1cd-23d903e037ac",
       "rows": [
        [
         "20",
         "6332"
        ],
        [
         "10",
         "5080"
        ],
        [
         "0",
         "1136"
        ],
        [
         "30",
         "1112"
        ],
        [
         "22",
         "768"
        ],
        [
         "15",
         "660"
        ],
        [
         "12",
         "620"
        ],
        [
         "14",
         "612"
        ],
        [
         "24",
         "584"
        ],
        [
         "25",
         "512"
        ],
        [
         "23",
         "436"
        ],
        [
         "13",
         "300"
        ],
        [
         "3",
         "108"
        ],
        [
         "4",
         "100"
        ],
        [
         "5",
         "92"
        ],
        [
         "32",
         "60"
        ],
        [
         "34",
         "44"
        ],
        [
         "35",
         "36"
        ],
        [
         "33",
         "28"
        ],
        [
         "2",
         "24"
        ],
        [
         "31",
         "16"
        ],
        [
         "11",
         "16"
        ],
        [
         "21",
         "8"
        ]
       ],
       "shape": {
        "columns": 1,
        "rows": 23
       }
      },
      "text/plain": [
       "combined_var\n",
       "20    6332\n",
       "10    5080\n",
       "0     1136\n",
       "30    1112\n",
       "22     768\n",
       "15     660\n",
       "12     620\n",
       "14     612\n",
       "24     584\n",
       "25     512\n",
       "23     436\n",
       "13     300\n",
       "3      108\n",
       "4      100\n",
       "5       92\n",
       "32      60\n",
       "34      44\n",
       "35      36\n",
       "33      28\n",
       "2       24\n",
       "31      16\n",
       "11      16\n",
       "21       8\n",
       "Name: count, dtype: int64"
      ]
     },
     "execution_count": 11,
     "metadata": {},
     "output_type": "execute_result"
    }
   ],
   "source": [
    "val_test_df[\"combined_var\"] = val_test_df[\"SimpleModelLabel\"] + 10 * val_test_df[\"tissueden\"]\n",
    "val_test_df[\"combined_var\"].value_counts()"
   ]
  },
  {
   "cell_type": "code",
   "execution_count": 12,
   "metadata": {},
   "outputs": [
    {
     "name": "stdout",
     "output_type": "stream",
     "text": [
      "N patients train: 13716, val: 1200, test 3471\n"
     ]
    }
   ],
   "source": [
    "tmp = val_test_df.groupby(\"acc_anon\")[\"combined_var\"].unique()\n",
    "ids, y = tmp.index, tmp.apply(lambda x: x[0]).values\n",
    "test_id, val_id = train_test_split(ids, test_size=1200, random_state=33, stratify=y)\n",
    "print(\n",
    "    f\"N patients train: {train_id.shape[0]}, val: {val_id.shape[0]}, test {test_id.shape[0]}\"\n",
    ")  # noqa"
   ]
  },
  {
   "cell_type": "code",
   "execution_count": 13,
   "metadata": {},
   "outputs": [
    {
     "name": "stderr",
     "output_type": "stream",
     "text": [
      "/tmp/ipykernel_1722992/716445168.py:4: SettingWithCopyWarning: \n",
      "A value is trying to be set on a copy of a slice from a DataFrame.\n",
      "Try using .loc[row_indexer,col_indexer] = value instead\n",
      "\n",
      "See the caveats in the documentation: https://pandas.pydata.org/pandas-docs/stable/user_guide/indexing.html#returning-a-view-versus-a-copy\n",
      "  test_df[\"idx_in_original_test\"] = np.arange(len(test_df))\n"
     ]
    }
   ],
   "source": [
    "train_df = df.loc[df.empi_anon.isin(train_id)]\n",
    "val_df = val_test_df.loc[val_test_df.acc_anon.isin(val_id)]\n",
    "test_df = val_test_df.loc[val_test_df.acc_anon.isin(test_id)]\n",
    "test_df[\"idx_in_original_test\"] = np.arange(len(test_df))"
   ]
  },
  {
   "cell_type": "code",
   "execution_count": 14,
   "metadata": {},
   "outputs": [
    {
     "data": {
      "application/vnd.microsoft.datawrangler.viewer.v0+json": {
       "columns": [
        {
         "name": "SimpleModelLabel",
         "rawType": "int64",
         "type": "integer"
        },
        {
         "name": "0",
         "rawType": "float64",
         "type": "float"
        },
        {
         "name": "1",
         "rawType": "float64",
         "type": "float"
        },
        {
         "name": "2",
         "rawType": "float64",
         "type": "float"
        },
        {
         "name": "3",
         "rawType": "float64",
         "type": "float"
        }
       ],
       "ref": "417990dc-4231-4f97-a96f-21c2ff806159",
       "rows": [
        [
         "0",
         "0.08313632781717888",
         "0.37194641449960597",
         "0.46335697399527187",
         "0.08156028368794327"
        ],
        [
         "1",
         "0.0",
         "0.42857142857142855",
         "0.14285714285714285",
         "0.42857142857142855"
        ],
        [
         "2",
         "0.014652014652014652",
         "0.42124542124542125",
         "0.5238095238095238",
         "0.040293040293040296"
        ],
        [
         "3",
         "0.12345679012345678",
         "0.345679012345679",
         "0.5",
         "0.030864197530864196"
        ],
        [
         "4",
         "0.07630522088353414",
         "0.4578313253012048",
         "0.43373493975903615",
         "0.0321285140562249"
        ],
        [
         "5",
         "0.07024793388429752",
         "0.5082644628099173",
         "0.3925619834710744",
         "0.028925619834710745"
        ]
       ],
       "shape": {
        "columns": 4,
        "rows": 6
       }
      },
      "text/html": [
       "<div>\n",
       "<style scoped>\n",
       "    .dataframe tbody tr th:only-of-type {\n",
       "        vertical-align: middle;\n",
       "    }\n",
       "\n",
       "    .dataframe tbody tr th {\n",
       "        vertical-align: top;\n",
       "    }\n",
       "\n",
       "    .dataframe thead th {\n",
       "        text-align: right;\n",
       "    }\n",
       "</style>\n",
       "<table border=\"1\" class=\"dataframe\">\n",
       "  <thead>\n",
       "    <tr style=\"text-align: right;\">\n",
       "      <th>tissueden</th>\n",
       "      <th>0</th>\n",
       "      <th>1</th>\n",
       "      <th>2</th>\n",
       "      <th>3</th>\n",
       "    </tr>\n",
       "    <tr>\n",
       "      <th>SimpleModelLabel</th>\n",
       "      <th></th>\n",
       "      <th></th>\n",
       "      <th></th>\n",
       "      <th></th>\n",
       "    </tr>\n",
       "  </thead>\n",
       "  <tbody>\n",
       "    <tr>\n",
       "      <th>0</th>\n",
       "      <td>0.083136</td>\n",
       "      <td>0.371946</td>\n",
       "      <td>0.463357</td>\n",
       "      <td>0.081560</td>\n",
       "    </tr>\n",
       "    <tr>\n",
       "      <th>1</th>\n",
       "      <td>0.000000</td>\n",
       "      <td>0.428571</td>\n",
       "      <td>0.142857</td>\n",
       "      <td>0.428571</td>\n",
       "    </tr>\n",
       "    <tr>\n",
       "      <th>2</th>\n",
       "      <td>0.014652</td>\n",
       "      <td>0.421245</td>\n",
       "      <td>0.523810</td>\n",
       "      <td>0.040293</td>\n",
       "    </tr>\n",
       "    <tr>\n",
       "      <th>3</th>\n",
       "      <td>0.123457</td>\n",
       "      <td>0.345679</td>\n",
       "      <td>0.500000</td>\n",
       "      <td>0.030864</td>\n",
       "    </tr>\n",
       "    <tr>\n",
       "      <th>4</th>\n",
       "      <td>0.076305</td>\n",
       "      <td>0.457831</td>\n",
       "      <td>0.433735</td>\n",
       "      <td>0.032129</td>\n",
       "    </tr>\n",
       "    <tr>\n",
       "      <th>5</th>\n",
       "      <td>0.070248</td>\n",
       "      <td>0.508264</td>\n",
       "      <td>0.392562</td>\n",
       "      <td>0.028926</td>\n",
       "    </tr>\n",
       "  </tbody>\n",
       "</table>\n",
       "</div>"
      ],
      "text/plain": [
       "tissueden                0         1         2         3\n",
       "SimpleModelLabel                                        \n",
       "0                 0.083136  0.371946  0.463357  0.081560\n",
       "1                 0.000000  0.428571  0.142857  0.428571\n",
       "2                 0.014652  0.421245  0.523810  0.040293\n",
       "3                 0.123457  0.345679  0.500000  0.030864\n",
       "4                 0.076305  0.457831  0.433735  0.032129\n",
       "5                 0.070248  0.508264  0.392562  0.028926"
      ]
     },
     "execution_count": 14,
     "metadata": {},
     "output_type": "execute_result"
    }
   ],
   "source": [
    "pd.crosstab(test_df[\"SimpleModelLabel\"], test_df[\"tissueden\"], normalize=\"index\")"
   ]
  },
  {
   "cell_type": "code",
   "execution_count": 15,
   "metadata": {},
   "outputs": [
    {
     "data": {
      "application/vnd.microsoft.datawrangler.viewer.v0+json": {
       "columns": [
        {
         "name": "SimpleModelLabel",
         "rawType": "int64",
         "type": "integer"
        },
        {
         "name": "0",
         "rawType": "float64",
         "type": "float"
        },
        {
         "name": "1",
         "rawType": "float64",
         "type": "float"
        },
        {
         "name": "2",
         "rawType": "float64",
         "type": "float"
        },
        {
         "name": "3",
         "rawType": "float64",
         "type": "float"
        }
       ],
       "ref": "f913a867-1310-4661-a2f8-8a830af6b3b9",
       "rows": [
        [
         "0",
         "0.08323831242873432",
         "0.3717217787913341",
         "0.4640820980615735",
         "0.08095781071835804"
        ],
        [
         "1",
         "0.0",
         "0.3333333333333333",
         "0.3333333333333333",
         "0.3333333333333333"
        ],
        [
         "2",
         "0.021052631578947368",
         "0.42105263157894735",
         "0.5157894736842106",
         "0.042105263157894736"
        ],
        [
         "3",
         "0.125",
         "0.3392857142857143",
         "0.5",
         "0.03571428571428571"
        ],
        [
         "4",
         "0.06976744186046512",
         "0.45348837209302323",
         "0.4418604651162791",
         "0.03488372093023256"
        ],
        [
         "5",
         "0.07228915662650602",
         "0.5060240963855421",
         "0.39759036144578314",
         "0.024096385542168676"
        ]
       ],
       "shape": {
        "columns": 4,
        "rows": 6
       }
      },
      "text/html": [
       "<div>\n",
       "<style scoped>\n",
       "    .dataframe tbody tr th:only-of-type {\n",
       "        vertical-align: middle;\n",
       "    }\n",
       "\n",
       "    .dataframe tbody tr th {\n",
       "        vertical-align: top;\n",
       "    }\n",
       "\n",
       "    .dataframe thead th {\n",
       "        text-align: right;\n",
       "    }\n",
       "</style>\n",
       "<table border=\"1\" class=\"dataframe\">\n",
       "  <thead>\n",
       "    <tr style=\"text-align: right;\">\n",
       "      <th>tissueden</th>\n",
       "      <th>0</th>\n",
       "      <th>1</th>\n",
       "      <th>2</th>\n",
       "      <th>3</th>\n",
       "    </tr>\n",
       "    <tr>\n",
       "      <th>SimpleModelLabel</th>\n",
       "      <th></th>\n",
       "      <th></th>\n",
       "      <th></th>\n",
       "      <th></th>\n",
       "    </tr>\n",
       "  </thead>\n",
       "  <tbody>\n",
       "    <tr>\n",
       "      <th>0</th>\n",
       "      <td>0.083238</td>\n",
       "      <td>0.371722</td>\n",
       "      <td>0.464082</td>\n",
       "      <td>0.080958</td>\n",
       "    </tr>\n",
       "    <tr>\n",
       "      <th>1</th>\n",
       "      <td>0.000000</td>\n",
       "      <td>0.333333</td>\n",
       "      <td>0.333333</td>\n",
       "      <td>0.333333</td>\n",
       "    </tr>\n",
       "    <tr>\n",
       "      <th>2</th>\n",
       "      <td>0.021053</td>\n",
       "      <td>0.421053</td>\n",
       "      <td>0.515789</td>\n",
       "      <td>0.042105</td>\n",
       "    </tr>\n",
       "    <tr>\n",
       "      <th>3</th>\n",
       "      <td>0.125000</td>\n",
       "      <td>0.339286</td>\n",
       "      <td>0.500000</td>\n",
       "      <td>0.035714</td>\n",
       "    </tr>\n",
       "    <tr>\n",
       "      <th>4</th>\n",
       "      <td>0.069767</td>\n",
       "      <td>0.453488</td>\n",
       "      <td>0.441860</td>\n",
       "      <td>0.034884</td>\n",
       "    </tr>\n",
       "    <tr>\n",
       "      <th>5</th>\n",
       "      <td>0.072289</td>\n",
       "      <td>0.506024</td>\n",
       "      <td>0.397590</td>\n",
       "      <td>0.024096</td>\n",
       "    </tr>\n",
       "  </tbody>\n",
       "</table>\n",
       "</div>"
      ],
      "text/plain": [
       "tissueden                0         1         2         3\n",
       "SimpleModelLabel                                        \n",
       "0                 0.083238  0.371722  0.464082  0.080958\n",
       "1                 0.000000  0.333333  0.333333  0.333333\n",
       "2                 0.021053  0.421053  0.515789  0.042105\n",
       "3                 0.125000  0.339286  0.500000  0.035714\n",
       "4                 0.069767  0.453488  0.441860  0.034884\n",
       "5                 0.072289  0.506024  0.397590  0.024096"
      ]
     },
     "execution_count": 15,
     "metadata": {},
     "output_type": "execute_result"
    }
   ],
   "source": [
    "pd.crosstab(val_df[\"SimpleModelLabel\"], val_df[\"tissueden\"], normalize=\"index\")"
   ]
  },
  {
   "cell_type": "code",
   "execution_count": 16,
   "metadata": {},
   "outputs": [],
   "source": [
    "train_df.to_csv(\"/vol/biomedic3/bglocker/mscproj/zm1224/msc_individual_project/experiments/train_embed.csv\")"
   ]
  },
  {
   "cell_type": "code",
   "execution_count": 17,
   "metadata": {},
   "outputs": [],
   "source": [
    "val_df.to_csv(\"/vol/biomedic3/bglocker/mscproj/zm1224/msc_individual_project/experiments/train_embed.csv\")"
   ]
  },
  {
   "cell_type": "code",
   "execution_count": 18,
   "metadata": {},
   "outputs": [],
   "source": [
    "test_df.to_csv(\"/vol/biomedic3/bglocker/mscproj/zm1224/msc_individual_project/experiments/train_embed.csv\")"
   ]
  }
 ],
 "metadata": {
  "kernelspec": {
   "display_name": "venv",
   "language": "python",
   "name": "python3"
  },
  "language_info": {
   "codemirror_mode": {
    "name": "ipython",
    "version": 3
   },
   "file_extension": ".py",
   "mimetype": "text/x-python",
   "name": "python",
   "nbconvert_exporter": "python",
   "pygments_lexer": "ipython3",
   "version": "3.12.3"
  }
 },
 "nbformat": 4,
 "nbformat_minor": 2
}
