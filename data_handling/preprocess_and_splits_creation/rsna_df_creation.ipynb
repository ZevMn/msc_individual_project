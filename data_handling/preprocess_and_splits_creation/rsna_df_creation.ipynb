{
 "cells": [
  {
   "cell_type": "markdown",
   "metadata": {},
   "source": [
    "# Prepare RSNA Pneumonia splits csv"
   ]
  },
  {
   "cell_type": "code",
   "execution_count": 1,
   "metadata": {},
   "outputs": [],
   "source": [
    "import pandas as pd\n",
    "from sklearn.model_selection import train_test_split\n",
    "import numpy as np\n",
    "from pathlib import Path\n",
    "import sys\n",
    "\n",
    "sys.path.append(\"/vol/biomedic3/bglocker/mscproj/zm1224/msc_individual_project/\")\n",
    "\n",
    "from default_paths import (\n",
    "    ROOT,\n",
    "    PATH_NIH_TO_RSNA_MAPPING,\n",
    "    NIH_METADATA_CSV,\n",
    "    DATA_DIR_RSNA,\n",
    ")\n",
    "from rsna_utils import create_mapping_dataset_nih"
   ]
  },
  {
   "cell_type": "markdown",
   "metadata": {},
   "source": [
    "## Part I: generate the main csv (merging RSNA labels with metadata from NIH dataset)"
   ]
  },
  {
   "cell_type": "code",
   "execution_count": 2,
   "metadata": {},
   "outputs": [
    {
     "ename": "FileNotFoundError",
     "evalue": "[Errno 2] No such file or directory: 'pneumonia-challenge-dataset-mappings_2018.json'",
     "output_type": "error",
     "traceback": [
      "\u001b[31m---------------------------------------------------------------------------\u001b[39m",
      "\u001b[31mFileNotFoundError\u001b[39m                         Traceback (most recent call last)",
      "\u001b[36mCell\u001b[39m\u001b[36m \u001b[39m\u001b[32mIn[2]\u001b[39m\u001b[32m, line 4\u001b[39m\n\u001b[32m      2\u001b[39m nih_metadata = NIH_METADATA_CSV\n\u001b[32m      3\u001b[39m kaggle_dataset_path = DATA_DIR_RSNA / \u001b[33m\"\u001b[39m\u001b[33mstage_2_train_labels.csv\u001b[39m\u001b[33m\"\u001b[39m\n\u001b[32m----> \u001b[39m\u001b[32m4\u001b[39m dataset = \u001b[43mcreate_mapping_dataset_nih\u001b[49m\u001b[43m(\u001b[49m\n\u001b[32m      5\u001b[39m \u001b[43m    \u001b[49m\u001b[43mmapping_file\u001b[49m\u001b[43m,\u001b[49m\n\u001b[32m      6\u001b[39m \u001b[43m    \u001b[49m\u001b[43mnih_metadata\u001b[49m\u001b[43m,\u001b[49m\n\u001b[32m      7\u001b[39m \u001b[43m    \u001b[49m\u001b[43mkaggle_dataset_path\u001b[49m\u001b[43m,\u001b[49m\n\u001b[32m      8\u001b[39m \u001b[43m)\u001b[49m\n\u001b[32m      9\u001b[39m dataset.to_csv(\n\u001b[32m     10\u001b[39m     ROOT / \u001b[33m\"\u001b[39m\u001b[33mdata_handling\u001b[39m\u001b[33m\"\u001b[39m / \u001b[33m\"\u001b[39m\u001b[33mpneumonia_dataset_with_metadata.csv\u001b[39m\u001b[33m\"\u001b[39m, index=\u001b[38;5;28;01mFalse\u001b[39;00m\n\u001b[32m     11\u001b[39m )\n",
      "\u001b[36mFile \u001b[39m\u001b[32m/vol/biomedic3/bglocker/mscproj/zm1224/msc_individual_project/data_handling/preprocess_and_splits_creation/rsna_utils.py:62\u001b[39m, in \u001b[36mcreate_mapping_dataset_nih\u001b[39m\u001b[34m(mapping_file_path, nih_metadata, kaggle_dataset_path)\u001b[39m\n\u001b[32m     47\u001b[39m \u001b[38;5;28;01mdef\u001b[39;00m\u001b[38;5;250m \u001b[39m\u001b[34mcreate_mapping_dataset_nih\u001b[39m(\n\u001b[32m     48\u001b[39m     mapping_file_path: Path,\n\u001b[32m     49\u001b[39m     nih_metadata: Path,\n\u001b[32m     50\u001b[39m     kaggle_dataset_path: Path,\n\u001b[32m     51\u001b[39m ) -> pd.DataFrame:\n\u001b[32m     52\u001b[39m \u001b[38;5;250m    \u001b[39m\u001b[33;03m\"\"\"\u001b[39;00m\n\u001b[32m     53\u001b[39m \u001b[33;03m    Creates the final chest x-ray dataset combining labels from NIH and kaggle\u001b[39;00m\n\u001b[32m     54\u001b[39m \u001b[33;03m    Args:\u001b[39;00m\n\u001b[32m   (...)\u001b[39m\u001b[32m     60\u001b[39m \u001b[33;03m        dataset with all metadata, Kaggle label\u001b[39;00m\n\u001b[32m     61\u001b[39m \u001b[33;03m    \"\"\"\u001b[39;00m\n\u001b[32m---> \u001b[39m\u001b[32m62\u001b[39m     orig_dataset = \u001b[43mcreate_nih_dataframe\u001b[49m\u001b[43m(\u001b[49m\u001b[43mmapping_file_path\u001b[49m\u001b[43m,\u001b[49m\u001b[43m \u001b[49m\u001b[43mnih_metadata\u001b[49m\u001b[43m)\u001b[49m\n\u001b[32m     63\u001b[39m     kaggle_dataset = pd.read_csv(kaggle_dataset_path)\n\u001b[32m     64\u001b[39m     \u001b[38;5;66;03m# Merge NIH info with Kaggle dataset\u001b[39;00m\n",
      "\u001b[36mFile \u001b[39m\u001b[32m/vol/biomedic3/bglocker/mscproj/zm1224/msc_individual_project/data_handling/preprocess_and_splits_creation/rsna_utils.py:22\u001b[39m, in \u001b[36mcreate_nih_dataframe\u001b[39m\u001b[34m(mapping_file_path, nih_metadata_file)\u001b[39m\n\u001b[32m     12\u001b[39m \u001b[38;5;28;01mdef\u001b[39;00m\u001b[38;5;250m \u001b[39m\u001b[34mcreate_nih_dataframe\u001b[39m(\n\u001b[32m     13\u001b[39m     mapping_file_path: Path, nih_metadata_file: Path\n\u001b[32m     14\u001b[39m ) -> pd.DataFrame:\n\u001b[32m     15\u001b[39m \u001b[38;5;250m    \u001b[39m\u001b[33;03m\"\"\"\u001b[39;00m\n\u001b[32m     16\u001b[39m \u001b[33;03m    This function loads the json file mapping NIH ids to Kaggle images.\u001b[39;00m\n\u001b[32m     17\u001b[39m \u001b[33;03m    Loads the original NIH label (multiple labels for each image).\u001b[39;00m\n\u001b[32m   (...)\u001b[39m\u001b[32m     20\u001b[39m \u001b[33;03m    :return: dataframe with original NIH labels for each patient in the Kaggle dataset.\u001b[39;00m\n\u001b[32m     21\u001b[39m \u001b[33;03m    \"\"\"\u001b[39;00m\n\u001b[32m---> \u001b[39m\u001b[32m22\u001b[39m     \u001b[38;5;28;01mwith\u001b[39;00m \u001b[38;5;28;43mopen\u001b[39;49m\u001b[43m(\u001b[49m\u001b[43mmapping_file_path\u001b[49m\u001b[43m)\u001b[49m \u001b[38;5;28;01mas\u001b[39;00m f:\n\u001b[32m     23\u001b[39m         list_subjects = json.load(f)\n\u001b[32m     24\u001b[39m     orig_dataset = pd.DataFrame(columns=[\u001b[33m\"\u001b[39m\u001b[33mpatientId\u001b[39m\u001b[33m\"\u001b[39m, \u001b[33m\"\u001b[39m\u001b[33morig_label\u001b[39m\u001b[33m\"\u001b[39m])\n",
      "\u001b[31mFileNotFoundError\u001b[39m: [Errno 2] No such file or directory: 'pneumonia-challenge-dataset-mappings_2018.json'"
     ]
    }
   ],
   "source": [
    "mapping_file = PATH_NIH_TO_RSNA_MAPPING\n",
    "nih_metadata = NIH_METADATA_CSV\n",
    "kaggle_dataset_path = DATA_DIR_RSNA / \"stage_2_train_labels.csv\"\n",
    "dataset = create_mapping_dataset_nih(\n",
    "    mapping_file,\n",
    "    nih_metadata,\n",
    "    kaggle_dataset_path,\n",
    ")\n",
    "dataset.to_csv(\n",
    "    ROOT / \"data_handling\" / \"pneumonia_dataset_with_metadata.csv\", index=False\n",
    ")"
   ]
  },
  {
   "cell_type": "markdown",
   "metadata": {},
   "source": [
    "## Part II: generate splits"
   ]
  },
  {
   "cell_type": "code",
   "execution_count": null,
   "metadata": {},
   "outputs": [],
   "source": [
    "random_seed_for_splits = 33\n",
    "df = pd.read_csv(ROOT / \"data_handling\" / \"pneumonia_dataset_with_metadata.csv\")\n",
    "indices_train_val, indices_test = train_test_split(\n",
    "    np.arange(len(df)),\n",
    "    test_size=0.3,\n",
    "    random_state=random_seed_for_splits,\n",
    ")\n",
    "train_val_df = df.iloc[indices_train_val]\n",
    "test_df = df.iloc[indices_test]\n",
    "\n",
    "# Further split train and val\n",
    "indices_train, indices_val = train_test_split(\n",
    "    np.arange(len(train_val_df)),\n",
    "    test_size=0.2,\n",
    "    random_state=random_seed_for_splits,\n",
    ")\n",
    "\n",
    "train_df = train_val_df.iloc[indices_train]\n",
    "val_df = train_val_df.iloc[indices_val]"
   ]
  },
  {
   "cell_type": "code",
   "execution_count": null,
   "metadata": {},
   "outputs": [],
   "source": [
    "train_df.to_csv(ROOT / \"experiments\" / \"train_rsna.csv\")\n",
    "val_df.to_csv(ROOT / \"experiments\" / \"val_rsna.csv\")\n",
    "test_df[\"idx_in_original_test\"] = np.arange(len(test_df))\n",
    "test_df.to_csv(ROOT / \"experiments\" / \"test_rsna.csv\")"
   ]
  }
 ],
 "metadata": {
  "kernelspec": {
   "display_name": "venv",
   "language": "python",
   "name": "python3"
  },
  "language_info": {
   "codemirror_mode": {
    "name": "ipython",
    "version": 3
   },
   "file_extension": ".py",
   "mimetype": "text/x-python",
   "name": "python",
   "nbconvert_exporter": "python",
   "pygments_lexer": "ipython3",
   "version": "3.12.3"
  }
 },
 "nbformat": 4,
 "nbformat_minor": 2
}
