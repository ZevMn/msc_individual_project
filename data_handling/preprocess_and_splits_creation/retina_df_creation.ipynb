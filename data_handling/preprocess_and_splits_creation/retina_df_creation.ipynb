{
 "cells": [
  {
   "cell_type": "markdown",
   "metadata": {},
   "source": [
    "# Create RETINA dataset files"
   ]
  },
  {
   "cell_type": "code",
   "execution_count": 1,
   "metadata": {},
   "outputs": [],
   "source": [
    "from sklearn.model_selection import train_test_split\n",
    "import numpy as np\n",
    "from pathlib import Path\n",
    "import pandas as pd\n",
    "\n",
    "path_to_root = \"/vol/biomedic3/bglocker/mscproj/zm1224/msc_individual_project/\"\n",
    "\n",
    "import sys\n",
    "\n",
    "sys.path.append(path_to_root)\n",
    "\n",
    "from default_paths import MESSIDOR_ROOT, APTOS_ROOT, DIABETIC_ROOT"
   ]
  },
  {
   "cell_type": "markdown",
   "metadata": {},
   "source": [
    "## Load MESSIDOR dataset"
   ]
  },
  {
   "cell_type": "code",
   "execution_count": 2,
   "metadata": {},
   "outputs": [
    {
     "data": {
      "application/vnd.microsoft.datawrangler.viewer.v0+json": {
       "columns": [
        {
         "name": "index",
         "rawType": "int64",
         "type": "integer"
        },
        {
         "name": "image_id",
         "rawType": "object",
         "type": "string"
        },
        {
         "name": "adjudicated_dr_grade",
         "rawType": "float64",
         "type": "float"
        },
        {
         "name": "adjudicated_dme",
         "rawType": "float64",
         "type": "float"
        },
        {
         "name": "adjudicated_gradable",
         "rawType": "int64",
         "type": "integer"
        },
        {
         "name": "diagnosis",
         "rawType": "float64",
         "type": "float"
        },
        {
         "name": "site",
         "rawType": "int64",
         "type": "integer"
        },
        {
         "name": "img_path",
         "rawType": "object",
         "type": "unknown"
        },
        {
         "name": "split",
         "rawType": "object",
         "type": "string"
        }
       ],
       "ref": "ca4f11f2-55f9-45f2-b72e-da4c460c776e",
       "rows": [
        [
         "0",
         "20051020_43808_0100_PP.png",
         "0.0",
         "0.0",
         "1",
         "0.0",
         "1",
         "/vol/biomedic3/mb121/data/messidor/IMAGES/20051020_43808_0100_PP.png",
         "test"
        ],
        [
         "1",
         "20051020_43832_0100_PP.png",
         "1.0",
         "0.0",
         "1",
         "1.0",
         "1",
         "/vol/biomedic3/mb121/data/messidor/IMAGES/20051020_43832_0100_PP.png",
         "test"
        ],
        [
         "2",
         "20051020_43882_0100_PP.png",
         "1.0",
         "0.0",
         "1",
         "1.0",
         "1",
         "/vol/biomedic3/mb121/data/messidor/IMAGES/20051020_43882_0100_PP.png",
         "test"
        ],
        [
         "3",
         "20051020_43906_0100_PP.png",
         "2.0",
         "1.0",
         "1",
         "2.0",
         "1",
         "/vol/biomedic3/mb121/data/messidor/IMAGES/20051020_43906_0100_PP.png",
         "train"
        ],
        [
         "4",
         "20051020_44261_0100_PP.png",
         "0.0",
         "0.0",
         "1",
         "0.0",
         "1",
         "/vol/biomedic3/mb121/data/messidor/IMAGES/20051020_44261_0100_PP.png",
         "test"
        ],
        [
         "5",
         "20051020_44284_0100_PP.png",
         "0.0",
         "0.0",
         "1",
         "0.0",
         "1",
         "/vol/biomedic3/mb121/data/messidor/IMAGES/20051020_44284_0100_PP.png",
         "train"
        ],
        [
         "6",
         "20051020_44338_0100_PP.png",
         "0.0",
         "0.0",
         "1",
         "0.0",
         "1",
         "/vol/biomedic3/mb121/data/messidor/IMAGES/20051020_44338_0100_PP.png",
         "train"
        ],
        [
         "7",
         "20051020_44349_0100_PP.png",
         "2.0",
         "0.0",
         "1",
         "2.0",
         "1",
         "/vol/biomedic3/mb121/data/messidor/IMAGES/20051020_44349_0100_PP.png",
         "test"
        ],
        [
         "8",
         "20051020_44400_0100_PP.png",
         "0.0",
         "0.0",
         "1",
         "0.0",
         "1",
         "/vol/biomedic3/mb121/data/messidor/IMAGES/20051020_44400_0100_PP.png",
         "test"
        ],
        [
         "9",
         "20051020_44431_0100_PP.png",
         "0.0",
         "0.0",
         "1",
         "0.0",
         "1",
         "/vol/biomedic3/mb121/data/messidor/IMAGES/20051020_44431_0100_PP.png",
         "train"
        ],
        [
         "10",
         "20051020_44598_0100_PP.png",
         "2.0",
         "0.0",
         "1",
         "2.0",
         "1",
         "/vol/biomedic3/mb121/data/messidor/IMAGES/20051020_44598_0100_PP.png",
         "test"
        ],
        [
         "11",
         "20051020_44636_0100_PP.png",
         "2.0",
         "0.0",
         "1",
         "2.0",
         "1",
         "/vol/biomedic3/mb121/data/messidor/IMAGES/20051020_44636_0100_PP.png",
         "test"
        ],
        [
         "12",
         "20051020_44692_0100_PP.png",
         "0.0",
         "0.0",
         "1",
         "0.0",
         "1",
         "/vol/biomedic3/mb121/data/messidor/IMAGES/20051020_44692_0100_PP.png",
         "test"
        ],
        [
         "13",
         "20051020_44714_0100_PP.png",
         "0.0",
         "0.0",
         "1",
         "0.0",
         "1",
         "/vol/biomedic3/mb121/data/messidor/IMAGES/20051020_44714_0100_PP.png",
         "val"
        ],
        [
         "14",
         "20051020_44762_0100_PP.png",
         "1.0",
         "0.0",
         "1",
         "1.0",
         "1",
         "/vol/biomedic3/mb121/data/messidor/IMAGES/20051020_44762_0100_PP.png",
         "test"
        ],
        [
         "15",
         "20051020_44782_0100_PP.png",
         "1.0",
         "0.0",
         "1",
         "1.0",
         "1",
         "/vol/biomedic3/mb121/data/messidor/IMAGES/20051020_44782_0100_PP.png",
         "test"
        ],
        [
         "16",
         "20051020_44901_0100_PP.png",
         "2.0",
         "1.0",
         "1",
         "2.0",
         "1",
         "/vol/biomedic3/mb121/data/messidor/IMAGES/20051020_44901_0100_PP.png",
         "val"
        ],
        [
         "17",
         "20051020_44923_0100_PP.png",
         "2.0",
         "0.0",
         "1",
         "2.0",
         "1",
         "/vol/biomedic3/mb121/data/messidor/IMAGES/20051020_44923_0100_PP.png",
         "test"
        ],
        [
         "18",
         "20051020_44982_0100_PP.png",
         "0.0",
         "0.0",
         "1",
         "0.0",
         "1",
         "/vol/biomedic3/mb121/data/messidor/IMAGES/20051020_44982_0100_PP.png",
         "train"
        ],
        [
         "19",
         "20051020_45004_0100_PP.png",
         "1.0",
         "0.0",
         "1",
         "1.0",
         "1",
         "/vol/biomedic3/mb121/data/messidor/IMAGES/20051020_45004_0100_PP.png",
         "test"
        ],
        [
         "20",
         "20051020_45050_0100_PP.png",
         "3.0",
         "1.0",
         "1",
         "3.0",
         "1",
         "/vol/biomedic3/mb121/data/messidor/IMAGES/20051020_45050_0100_PP.png",
         "test"
        ],
        [
         "21",
         "20051020_45068_0100_PP.png",
         "3.0",
         "1.0",
         "1",
         "3.0",
         "1",
         "/vol/biomedic3/mb121/data/messidor/IMAGES/20051020_45068_0100_PP.png",
         "train"
        ],
        [
         "22",
         "20051020_45110_0100_PP.png",
         "4.0",
         "1.0",
         "1",
         "4.0",
         "1",
         "/vol/biomedic3/mb121/data/messidor/IMAGES/20051020_45110_0100_PP.png",
         "test"
        ],
        [
         "23",
         "20051020_45137_0100_PP.png",
         "4.0",
         "1.0",
         "1",
         "4.0",
         "1",
         "/vol/biomedic3/mb121/data/messidor/IMAGES/20051020_45137_0100_PP.png",
         "test"
        ],
        [
         "24",
         "20051020_53062_0100_PP.png",
         "3.0",
         "1.0",
         "1",
         "3.0",
         "1",
         "/vol/biomedic3/mb121/data/messidor/IMAGES/20051020_53062_0100_PP.png",
         "train"
        ],
        [
         "25",
         "20051020_53178_0100_PP.png",
         "3.0",
         "1.0",
         "1",
         "3.0",
         "1",
         "/vol/biomedic3/mb121/data/messidor/IMAGES/20051020_53178_0100_PP.png",
         "test"
        ],
        [
         "26",
         "20051020_54209_0100_PP.png",
         "3.0",
         "1.0",
         "1",
         "3.0",
         "1",
         "/vol/biomedic3/mb121/data/messidor/IMAGES/20051020_54209_0100_PP.png",
         "train"
        ],
        [
         "27",
         "20051020_55346_0100_PP.png",
         "3.0",
         "1.0",
         "1",
         "3.0",
         "1",
         "/vol/biomedic3/mb121/data/messidor/IMAGES/20051020_55346_0100_PP.png",
         "test"
        ],
        [
         "28",
         "20051020_55701_0100_PP.png",
         "1.0",
         "0.0",
         "1",
         "1.0",
         "1",
         "/vol/biomedic3/mb121/data/messidor/IMAGES/20051020_55701_0100_PP.png",
         "test"
        ],
        [
         "29",
         "20051020_56592_0100_PP.png",
         "1.0",
         "0.0",
         "1",
         "1.0",
         "1",
         "/vol/biomedic3/mb121/data/messidor/IMAGES/20051020_56592_0100_PP.png",
         "test"
        ],
        [
         "30",
         "20051020_56791_0100_PP.png",
         "0.0",
         "0.0",
         "1",
         "0.0",
         "1",
         "/vol/biomedic3/mb121/data/messidor/IMAGES/20051020_56791_0100_PP.png",
         "test"
        ],
        [
         "31",
         "20051020_57157_0100_PP.png",
         "0.0",
         "0.0",
         "1",
         "0.0",
         "1",
         "/vol/biomedic3/mb121/data/messidor/IMAGES/20051020_57157_0100_PP.png",
         "train"
        ],
        [
         "32",
         "20051020_57566_0100_PP.png",
         "2.0",
         "1.0",
         "1",
         "2.0",
         "1",
         "/vol/biomedic3/mb121/data/messidor/IMAGES/20051020_57566_0100_PP.png",
         "train"
        ],
        [
         "33",
         "20051020_57622_0100_PP.png",
         "2.0",
         "1.0",
         "1",
         "2.0",
         "1",
         "/vol/biomedic3/mb121/data/messidor/IMAGES/20051020_57622_0100_PP.png",
         "test"
        ],
        [
         "34",
         "20051020_57761_0100_PP.png",
         "3.0",
         "0.0",
         "1",
         "3.0",
         "1",
         "/vol/biomedic3/mb121/data/messidor/IMAGES/20051020_57761_0100_PP.png",
         "train"
        ],
        [
         "35",
         "20051020_57844_0100_PP.png",
         "2.0",
         "0.0",
         "1",
         "2.0",
         "1",
         "/vol/biomedic3/mb121/data/messidor/IMAGES/20051020_57844_0100_PP.png",
         "test"
        ],
        [
         "36",
         "20051020_57967_0100_PP.png",
         "0.0",
         "0.0",
         "1",
         "0.0",
         "1",
         "/vol/biomedic3/mb121/data/messidor/IMAGES/20051020_57967_0100_PP.png",
         "train"
        ],
        [
         "37",
         "20051020_58065_0100_PP.png",
         "0.0",
         "0.0",
         "1",
         "0.0",
         "1",
         "/vol/biomedic3/mb121/data/messidor/IMAGES/20051020_58065_0100_PP.png",
         "test"
        ],
        [
         "38",
         "20051020_58214_0100_PP.png",
         "2.0",
         "0.0",
         "1",
         "2.0",
         "1",
         "/vol/biomedic3/mb121/data/messidor/IMAGES/20051020_58214_0100_PP.png",
         "test"
        ],
        [
         "39",
         "20051020_58276_0100_PP.png",
         "2.0",
         "1.0",
         "1",
         "2.0",
         "1",
         "/vol/biomedic3/mb121/data/messidor/IMAGES/20051020_58276_0100_PP.png",
         "test"
        ],
        [
         "40",
         "20051020_61757_0100_PP.png",
         "0.0",
         "0.0",
         "1",
         "0.0",
         "1",
         "/vol/biomedic3/mb121/data/messidor/IMAGES/20051020_61757_0100_PP.png",
         "test"
        ],
        [
         "41",
         "20051020_61804_0100_PP.png",
         "1.0",
         "0.0",
         "1",
         "1.0",
         "1",
         "/vol/biomedic3/mb121/data/messidor/IMAGES/20051020_61804_0100_PP.png",
         "test"
        ],
        [
         "42",
         "20051020_61998_0100_PP.png",
         "4.0",
         "0.0",
         "1",
         "4.0",
         "1",
         "/vol/biomedic3/mb121/data/messidor/IMAGES/20051020_61998_0100_PP.png",
         "val"
        ],
        [
         "43",
         "20051020_62014_0100_PP.png",
         "2.0",
         "1.0",
         "1",
         "2.0",
         "1",
         "/vol/biomedic3/mb121/data/messidor/IMAGES/20051020_62014_0100_PP.png",
         "train"
        ],
        [
         "44",
         "20051020_62337_0100_PP.png",
         "2.0",
         "1.0",
         "1",
         "2.0",
         "1",
         "/vol/biomedic3/mb121/data/messidor/IMAGES/20051020_62337_0100_PP.png",
         "train"
        ],
        [
         "45",
         "20051020_62385_0100_PP.png",
         "3.0",
         "1.0",
         "1",
         "3.0",
         "1",
         "/vol/biomedic3/mb121/data/messidor/IMAGES/20051020_62385_0100_PP.png",
         "test"
        ],
        [
         "46",
         "20051020_62461_0100_PP.png",
         "0.0",
         "0.0",
         "1",
         "0.0",
         "1",
         "/vol/biomedic3/mb121/data/messidor/IMAGES/20051020_62461_0100_PP.png",
         "train"
        ],
        [
         "47",
         "20051020_62510_0100_PP.png",
         "0.0",
         "0.0",
         "1",
         "0.0",
         "1",
         "/vol/biomedic3/mb121/data/messidor/IMAGES/20051020_62510_0100_PP.png",
         "test"
        ],
        [
         "48",
         "20051020_62577_0100_PP.png",
         "0.0",
         "0.0",
         "1",
         "0.0",
         "1",
         "/vol/biomedic3/mb121/data/messidor/IMAGES/20051020_62577_0100_PP.png",
         "test"
        ],
        [
         "49",
         "20051020_62615_0100_PP.png",
         "0.0",
         "0.0",
         "1",
         "0.0",
         "1",
         "/vol/biomedic3/mb121/data/messidor/IMAGES/20051020_62615_0100_PP.png",
         "train"
        ]
       ],
       "shape": {
        "columns": 8,
        "rows": 1748
       }
      },
      "text/html": [
       "<div>\n",
       "<style scoped>\n",
       "    .dataframe tbody tr th:only-of-type {\n",
       "        vertical-align: middle;\n",
       "    }\n",
       "\n",
       "    .dataframe tbody tr th {\n",
       "        vertical-align: top;\n",
       "    }\n",
       "\n",
       "    .dataframe thead th {\n",
       "        text-align: right;\n",
       "    }\n",
       "</style>\n",
       "<table border=\"1\" class=\"dataframe\">\n",
       "  <thead>\n",
       "    <tr style=\"text-align: right;\">\n",
       "      <th></th>\n",
       "      <th>image_id</th>\n",
       "      <th>adjudicated_dr_grade</th>\n",
       "      <th>adjudicated_dme</th>\n",
       "      <th>adjudicated_gradable</th>\n",
       "      <th>diagnosis</th>\n",
       "      <th>site</th>\n",
       "      <th>img_path</th>\n",
       "      <th>split</th>\n",
       "    </tr>\n",
       "  </thead>\n",
       "  <tbody>\n",
       "    <tr>\n",
       "      <th>0</th>\n",
       "      <td>20051020_43808_0100_PP.png</td>\n",
       "      <td>0.0</td>\n",
       "      <td>0.0</td>\n",
       "      <td>1</td>\n",
       "      <td>0.0</td>\n",
       "      <td>1</td>\n",
       "      <td>/vol/biomedic3/mb121/data/messidor/IMAGES/2005...</td>\n",
       "      <td>test</td>\n",
       "    </tr>\n",
       "    <tr>\n",
       "      <th>1</th>\n",
       "      <td>20051020_43832_0100_PP.png</td>\n",
       "      <td>1.0</td>\n",
       "      <td>0.0</td>\n",
       "      <td>1</td>\n",
       "      <td>1.0</td>\n",
       "      <td>1</td>\n",
       "      <td>/vol/biomedic3/mb121/data/messidor/IMAGES/2005...</td>\n",
       "      <td>test</td>\n",
       "    </tr>\n",
       "    <tr>\n",
       "      <th>2</th>\n",
       "      <td>20051020_43882_0100_PP.png</td>\n",
       "      <td>1.0</td>\n",
       "      <td>0.0</td>\n",
       "      <td>1</td>\n",
       "      <td>1.0</td>\n",
       "      <td>1</td>\n",
       "      <td>/vol/biomedic3/mb121/data/messidor/IMAGES/2005...</td>\n",
       "      <td>test</td>\n",
       "    </tr>\n",
       "    <tr>\n",
       "      <th>3</th>\n",
       "      <td>20051020_43906_0100_PP.png</td>\n",
       "      <td>2.0</td>\n",
       "      <td>1.0</td>\n",
       "      <td>1</td>\n",
       "      <td>2.0</td>\n",
       "      <td>1</td>\n",
       "      <td>/vol/biomedic3/mb121/data/messidor/IMAGES/2005...</td>\n",
       "      <td>train</td>\n",
       "    </tr>\n",
       "    <tr>\n",
       "      <th>4</th>\n",
       "      <td>20051020_44261_0100_PP.png</td>\n",
       "      <td>0.0</td>\n",
       "      <td>0.0</td>\n",
       "      <td>1</td>\n",
       "      <td>0.0</td>\n",
       "      <td>1</td>\n",
       "      <td>/vol/biomedic3/mb121/data/messidor/IMAGES/2005...</td>\n",
       "      <td>test</td>\n",
       "    </tr>\n",
       "    <tr>\n",
       "      <th>...</th>\n",
       "      <td>...</td>\n",
       "      <td>...</td>\n",
       "      <td>...</td>\n",
       "      <td>...</td>\n",
       "      <td>...</td>\n",
       "      <td>...</td>\n",
       "      <td>...</td>\n",
       "      <td>...</td>\n",
       "    </tr>\n",
       "    <tr>\n",
       "      <th>1743</th>\n",
       "      <td>IM004806.jpg</td>\n",
       "      <td>0.0</td>\n",
       "      <td>0.0</td>\n",
       "      <td>1</td>\n",
       "      <td>0.0</td>\n",
       "      <td>1</td>\n",
       "      <td>/vol/biomedic3/mb121/data/messidor/IMAGES/IM00...</td>\n",
       "      <td>train</td>\n",
       "    </tr>\n",
       "    <tr>\n",
       "      <th>1744</th>\n",
       "      <td>IM004811.jpg</td>\n",
       "      <td>1.0</td>\n",
       "      <td>0.0</td>\n",
       "      <td>1</td>\n",
       "      <td>1.0</td>\n",
       "      <td>1</td>\n",
       "      <td>/vol/biomedic3/mb121/data/messidor/IMAGES/IM00...</td>\n",
       "      <td>train</td>\n",
       "    </tr>\n",
       "    <tr>\n",
       "      <th>1745</th>\n",
       "      <td>IM004812.jpg</td>\n",
       "      <td>2.0</td>\n",
       "      <td>0.0</td>\n",
       "      <td>1</td>\n",
       "      <td>2.0</td>\n",
       "      <td>1</td>\n",
       "      <td>/vol/biomedic3/mb121/data/messidor/IMAGES/IM00...</td>\n",
       "      <td>train</td>\n",
       "    </tr>\n",
       "    <tr>\n",
       "      <th>1746</th>\n",
       "      <td>IM004831.jpg</td>\n",
       "      <td>0.0</td>\n",
       "      <td>0.0</td>\n",
       "      <td>1</td>\n",
       "      <td>0.0</td>\n",
       "      <td>1</td>\n",
       "      <td>/vol/biomedic3/mb121/data/messidor/IMAGES/IM00...</td>\n",
       "      <td>val</td>\n",
       "    </tr>\n",
       "    <tr>\n",
       "      <th>1747</th>\n",
       "      <td>IM004832.jpg</td>\n",
       "      <td>0.0</td>\n",
       "      <td>0.0</td>\n",
       "      <td>1</td>\n",
       "      <td>0.0</td>\n",
       "      <td>1</td>\n",
       "      <td>/vol/biomedic3/mb121/data/messidor/IMAGES/IM00...</td>\n",
       "      <td>train</td>\n",
       "    </tr>\n",
       "  </tbody>\n",
       "</table>\n",
       "<p>1748 rows × 8 columns</p>\n",
       "</div>"
      ],
      "text/plain": [
       "                        image_id  adjudicated_dr_grade  adjudicated_dme  \\\n",
       "0     20051020_43808_0100_PP.png                   0.0              0.0   \n",
       "1     20051020_43832_0100_PP.png                   1.0              0.0   \n",
       "2     20051020_43882_0100_PP.png                   1.0              0.0   \n",
       "3     20051020_43906_0100_PP.png                   2.0              1.0   \n",
       "4     20051020_44261_0100_PP.png                   0.0              0.0   \n",
       "...                          ...                   ...              ...   \n",
       "1743                IM004806.jpg                   0.0              0.0   \n",
       "1744                IM004811.jpg                   1.0              0.0   \n",
       "1745                IM004812.jpg                   2.0              0.0   \n",
       "1746                IM004831.jpg                   0.0              0.0   \n",
       "1747                IM004832.jpg                   0.0              0.0   \n",
       "\n",
       "      adjudicated_gradable  diagnosis  site  \\\n",
       "0                        1        0.0     1   \n",
       "1                        1        1.0     1   \n",
       "2                        1        1.0     1   \n",
       "3                        1        2.0     1   \n",
       "4                        1        0.0     1   \n",
       "...                    ...        ...   ...   \n",
       "1743                     1        0.0     1   \n",
       "1744                     1        1.0     1   \n",
       "1745                     1        2.0     1   \n",
       "1746                     1        0.0     1   \n",
       "1747                     1        0.0     1   \n",
       "\n",
       "                                               img_path  split  \n",
       "0     /vol/biomedic3/mb121/data/messidor/IMAGES/2005...   test  \n",
       "1     /vol/biomedic3/mb121/data/messidor/IMAGES/2005...   test  \n",
       "2     /vol/biomedic3/mb121/data/messidor/IMAGES/2005...   test  \n",
       "3     /vol/biomedic3/mb121/data/messidor/IMAGES/2005...  train  \n",
       "4     /vol/biomedic3/mb121/data/messidor/IMAGES/2005...   test  \n",
       "...                                                 ...    ...  \n",
       "1743  /vol/biomedic3/mb121/data/messidor/IMAGES/IM00...  train  \n",
       "1744  /vol/biomedic3/mb121/data/messidor/IMAGES/IM00...  train  \n",
       "1745  /vol/biomedic3/mb121/data/messidor/IMAGES/IM00...  train  \n",
       "1746  /vol/biomedic3/mb121/data/messidor/IMAGES/IM00...    val  \n",
       "1747  /vol/biomedic3/mb121/data/messidor/IMAGES/IM00...  train  \n",
       "\n",
       "[1748 rows x 8 columns]"
      ]
     },
     "execution_count": 2,
     "metadata": {},
     "output_type": "execute_result"
    }
   ],
   "source": [
    "df_m = pd.read_csv(MESSIDOR_ROOT / \"messidor_data.csv\")\n",
    "df_m[\"diagnosis\"] = df_m[\"adjudicated_dr_grade\"]\n",
    "df_m[\"site\"] = 1\n",
    "df_m[\"img_path\"] = df_m[\"image_id\"].apply(\n",
    "    lambda image_name: MESSIDOR_ROOT / \"IMAGES\" / image_name\n",
    ")\n",
    "train_id, val_test_id = train_test_split(np.arange(len(df_m)), train_size=0.40)\n",
    "val_id, test_id = train_test_split(val_test_id, train_size=0.20)\n",
    "df_m.loc[train_id, \"split\"] = \"train\"\n",
    "df_m.loc[val_id, \"split\"] = \"val\"\n",
    "df_m.loc[test_id, \"split\"] = \"test\"\n",
    "df_m"
   ]
  },
  {
   "cell_type": "markdown",
   "metadata": {},
   "source": [
    "## Load APTOS dataset"
   ]
  },
  {
   "cell_type": "code",
   "execution_count": 3,
   "metadata": {},
   "outputs": [
    {
     "data": {
      "application/vnd.microsoft.datawrangler.viewer.v0+json": {
       "columns": [
        {
         "name": "index",
         "rawType": "int64",
         "type": "integer"
        },
        {
         "name": "id_code",
         "rawType": "object",
         "type": "string"
        },
        {
         "name": "diagnosis",
         "rawType": "int64",
         "type": "integer"
        },
        {
         "name": "site",
         "rawType": "int64",
         "type": "integer"
        },
        {
         "name": "img_path",
         "rawType": "object",
         "type": "unknown"
        },
        {
         "name": "split",
         "rawType": "object",
         "type": "string"
        }
       ],
       "ref": "683324a9-f2c2-44ad-bd4a-01c4d324bedd",
       "rows": [
        [
         "0",
         "000c1434d8d7",
         "2",
         "2",
         "/vol/biomedic3/mb121/data/aptos2019/train_images/000c1434d8d7.png",
         "test"
        ],
        [
         "1",
         "001639a390f0",
         "4",
         "2",
         "/vol/biomedic3/mb121/data/aptos2019/train_images/001639a390f0.png",
         "val"
        ],
        [
         "2",
         "0024cdab0c1e",
         "1",
         "2",
         "/vol/biomedic3/mb121/data/aptos2019/train_images/0024cdab0c1e.png",
         "train"
        ],
        [
         "3",
         "002c21358ce6",
         "0",
         "2",
         "/vol/biomedic3/mb121/data/aptos2019/train_images/002c21358ce6.png",
         "test"
        ],
        [
         "4",
         "005b95c28852",
         "0",
         "2",
         "/vol/biomedic3/mb121/data/aptos2019/train_images/005b95c28852.png",
         "test"
        ],
        [
         "5",
         "0083ee8054ee",
         "4",
         "2",
         "/vol/biomedic3/mb121/data/aptos2019/train_images/0083ee8054ee.png",
         "test"
        ],
        [
         "6",
         "0097f532ac9f",
         "0",
         "2",
         "/vol/biomedic3/mb121/data/aptos2019/train_images/0097f532ac9f.png",
         "test"
        ],
        [
         "7",
         "00a8624548a9",
         "2",
         "2",
         "/vol/biomedic3/mb121/data/aptos2019/train_images/00a8624548a9.png",
         "test"
        ],
        [
         "8",
         "00b74780d31d",
         "2",
         "2",
         "/vol/biomedic3/mb121/data/aptos2019/train_images/00b74780d31d.png",
         "test"
        ],
        [
         "9",
         "00cb6555d108",
         "1",
         "2",
         "/vol/biomedic3/mb121/data/aptos2019/train_images/00cb6555d108.png",
         "val"
        ],
        [
         "10",
         "00cc2b75cddd",
         "0",
         "2",
         "/vol/biomedic3/mb121/data/aptos2019/train_images/00cc2b75cddd.png",
         "train"
        ],
        [
         "11",
         "00e4ddff966a",
         "2",
         "2",
         "/vol/biomedic3/mb121/data/aptos2019/train_images/00e4ddff966a.png",
         "test"
        ],
        [
         "12",
         "00f6c1be5a33",
         "0",
         "2",
         "/vol/biomedic3/mb121/data/aptos2019/train_images/00f6c1be5a33.png",
         "train"
        ],
        [
         "13",
         "0104b032c141",
         "3",
         "2",
         "/vol/biomedic3/mb121/data/aptos2019/train_images/0104b032c141.png",
         "test"
        ],
        [
         "14",
         "0124dffecf29",
         "1",
         "2",
         "/vol/biomedic3/mb121/data/aptos2019/train_images/0124dffecf29.png",
         "train"
        ],
        [
         "15",
         "0125fbd2e791",
         "0",
         "2",
         "/vol/biomedic3/mb121/data/aptos2019/train_images/0125fbd2e791.png",
         "train"
        ],
        [
         "16",
         "012a242ac6ff",
         "2",
         "2",
         "/vol/biomedic3/mb121/data/aptos2019/train_images/012a242ac6ff.png",
         "test"
        ],
        [
         "17",
         "014508ccb9cb",
         "0",
         "2",
         "/vol/biomedic3/mb121/data/aptos2019/train_images/014508ccb9cb.png",
         "test"
        ],
        [
         "18",
         "0151781fe50b",
         "0",
         "2",
         "/vol/biomedic3/mb121/data/aptos2019/train_images/0151781fe50b.png",
         "test"
        ],
        [
         "19",
         "0161338f53cc",
         "2",
         "2",
         "/vol/biomedic3/mb121/data/aptos2019/train_images/0161338f53cc.png",
         "train"
        ],
        [
         "20",
         "0180bfa26c0b",
         "2",
         "2",
         "/vol/biomedic3/mb121/data/aptos2019/train_images/0180bfa26c0b.png",
         "test"
        ],
        [
         "21",
         "0182152c50de",
         "0",
         "2",
         "/vol/biomedic3/mb121/data/aptos2019/train_images/0182152c50de.png",
         "test"
        ],
        [
         "22",
         "01b3aed3ed4c",
         "1",
         "2",
         "/vol/biomedic3/mb121/data/aptos2019/train_images/01b3aed3ed4c.png",
         "train"
        ],
        [
         "23",
         "01c7808d901d",
         "2",
         "2",
         "/vol/biomedic3/mb121/data/aptos2019/train_images/01c7808d901d.png",
         "val"
        ],
        [
         "24",
         "01d9477b1171",
         "0",
         "2",
         "/vol/biomedic3/mb121/data/aptos2019/train_images/01d9477b1171.png",
         "train"
        ],
        [
         "25",
         "01eb826f6467",
         "2",
         "2",
         "/vol/biomedic3/mb121/data/aptos2019/train_images/01eb826f6467.png",
         "test"
        ],
        [
         "26",
         "01f7bb8be950",
         "0",
         "2",
         "/vol/biomedic3/mb121/data/aptos2019/train_images/01f7bb8be950.png",
         "train"
        ],
        [
         "27",
         "0212dd31f623",
         "0",
         "2",
         "/vol/biomedic3/mb121/data/aptos2019/train_images/0212dd31f623.png",
         "test"
        ],
        [
         "28",
         "022f820027b8",
         "0",
         "2",
         "/vol/biomedic3/mb121/data/aptos2019/train_images/022f820027b8.png",
         "test"
        ],
        [
         "29",
         "0231642cf1c2",
         "0",
         "2",
         "/vol/biomedic3/mb121/data/aptos2019/train_images/0231642cf1c2.png",
         "test"
        ],
        [
         "30",
         "0232dfea7547",
         "0",
         "2",
         "/vol/biomedic3/mb121/data/aptos2019/train_images/0232dfea7547.png",
         "train"
        ],
        [
         "31",
         "02358b47ea89",
         "0",
         "2",
         "/vol/biomedic3/mb121/data/aptos2019/train_images/02358b47ea89.png",
         "test"
        ],
        [
         "32",
         "0243404e8a00",
         "4",
         "2",
         "/vol/biomedic3/mb121/data/aptos2019/train_images/0243404e8a00.png",
         "train"
        ],
        [
         "33",
         "025a169a0bb0",
         "2",
         "2",
         "/vol/biomedic3/mb121/data/aptos2019/train_images/025a169a0bb0.png",
         "train"
        ],
        [
         "34",
         "02685f13cefd",
         "4",
         "2",
         "/vol/biomedic3/mb121/data/aptos2019/train_images/02685f13cefd.png",
         "test"
        ],
        [
         "35",
         "026dcd9af143",
         "2",
         "2",
         "/vol/biomedic3/mb121/data/aptos2019/train_images/026dcd9af143.png",
         "val"
        ],
        [
         "36",
         "02cd34a85b24",
         "0",
         "2",
         "/vol/biomedic3/mb121/data/aptos2019/train_images/02cd34a85b24.png",
         "val"
        ],
        [
         "37",
         "02da652c74b8",
         "0",
         "2",
         "/vol/biomedic3/mb121/data/aptos2019/train_images/02da652c74b8.png",
         "train"
        ],
        [
         "38",
         "02dda30d3acf",
         "4",
         "2",
         "/vol/biomedic3/mb121/data/aptos2019/train_images/02dda30d3acf.png",
         "test"
        ],
        [
         "39",
         "0304bedad8fe",
         "0",
         "2",
         "/vol/biomedic3/mb121/data/aptos2019/train_images/0304bedad8fe.png",
         "test"
        ],
        [
         "40",
         "0318598cfd16",
         "4",
         "2",
         "/vol/biomedic3/mb121/data/aptos2019/train_images/0318598cfd16.png",
         "test"
        ],
        [
         "41",
         "032d7b0b4bf6",
         "2",
         "2",
         "/vol/biomedic3/mb121/data/aptos2019/train_images/032d7b0b4bf6.png",
         "test"
        ],
        [
         "42",
         "033f2b43de6d",
         "2",
         "2",
         "/vol/biomedic3/mb121/data/aptos2019/train_images/033f2b43de6d.png",
         "test"
        ],
        [
         "43",
         "034cb07a550f",
         "4",
         "2",
         "/vol/biomedic3/mb121/data/aptos2019/train_images/034cb07a550f.png",
         "test"
        ],
        [
         "44",
         "03676c71ed1b",
         "2",
         "2",
         "/vol/biomedic3/mb121/data/aptos2019/train_images/03676c71ed1b.png",
         "test"
        ],
        [
         "45",
         "0369f3efe69b",
         "1",
         "2",
         "/vol/biomedic3/mb121/data/aptos2019/train_images/0369f3efe69b.png",
         "test"
        ],
        [
         "46",
         "03747397839f",
         "2",
         "2",
         "/vol/biomedic3/mb121/data/aptos2019/train_images/03747397839f.png",
         "test"
        ],
        [
         "47",
         "03a7f4a5786f",
         "4",
         "2",
         "/vol/biomedic3/mb121/data/aptos2019/train_images/03a7f4a5786f.png",
         "train"
        ],
        [
         "48",
         "03b373718013",
         "0",
         "2",
         "/vol/biomedic3/mb121/data/aptos2019/train_images/03b373718013.png",
         "test"
        ],
        [
         "49",
         "03c85870824c",
         "3",
         "2",
         "/vol/biomedic3/mb121/data/aptos2019/train_images/03c85870824c.png",
         "train"
        ]
       ],
       "shape": {
        "columns": 5,
        "rows": 3662
       }
      },
      "text/html": [
       "<div>\n",
       "<style scoped>\n",
       "    .dataframe tbody tr th:only-of-type {\n",
       "        vertical-align: middle;\n",
       "    }\n",
       "\n",
       "    .dataframe tbody tr th {\n",
       "        vertical-align: top;\n",
       "    }\n",
       "\n",
       "    .dataframe thead th {\n",
       "        text-align: right;\n",
       "    }\n",
       "</style>\n",
       "<table border=\"1\" class=\"dataframe\">\n",
       "  <thead>\n",
       "    <tr style=\"text-align: right;\">\n",
       "      <th></th>\n",
       "      <th>id_code</th>\n",
       "      <th>diagnosis</th>\n",
       "      <th>site</th>\n",
       "      <th>img_path</th>\n",
       "      <th>split</th>\n",
       "    </tr>\n",
       "  </thead>\n",
       "  <tbody>\n",
       "    <tr>\n",
       "      <th>0</th>\n",
       "      <td>000c1434d8d7</td>\n",
       "      <td>2</td>\n",
       "      <td>2</td>\n",
       "      <td>/vol/biomedic3/mb121/data/aptos2019/train_imag...</td>\n",
       "      <td>test</td>\n",
       "    </tr>\n",
       "    <tr>\n",
       "      <th>1</th>\n",
       "      <td>001639a390f0</td>\n",
       "      <td>4</td>\n",
       "      <td>2</td>\n",
       "      <td>/vol/biomedic3/mb121/data/aptos2019/train_imag...</td>\n",
       "      <td>val</td>\n",
       "    </tr>\n",
       "    <tr>\n",
       "      <th>2</th>\n",
       "      <td>0024cdab0c1e</td>\n",
       "      <td>1</td>\n",
       "      <td>2</td>\n",
       "      <td>/vol/biomedic3/mb121/data/aptos2019/train_imag...</td>\n",
       "      <td>train</td>\n",
       "    </tr>\n",
       "    <tr>\n",
       "      <th>3</th>\n",
       "      <td>002c21358ce6</td>\n",
       "      <td>0</td>\n",
       "      <td>2</td>\n",
       "      <td>/vol/biomedic3/mb121/data/aptos2019/train_imag...</td>\n",
       "      <td>test</td>\n",
       "    </tr>\n",
       "    <tr>\n",
       "      <th>4</th>\n",
       "      <td>005b95c28852</td>\n",
       "      <td>0</td>\n",
       "      <td>2</td>\n",
       "      <td>/vol/biomedic3/mb121/data/aptos2019/train_imag...</td>\n",
       "      <td>test</td>\n",
       "    </tr>\n",
       "    <tr>\n",
       "      <th>...</th>\n",
       "      <td>...</td>\n",
       "      <td>...</td>\n",
       "      <td>...</td>\n",
       "      <td>...</td>\n",
       "      <td>...</td>\n",
       "    </tr>\n",
       "    <tr>\n",
       "      <th>3657</th>\n",
       "      <td>ffa47f6a7bf4</td>\n",
       "      <td>2</td>\n",
       "      <td>2</td>\n",
       "      <td>/vol/biomedic3/mb121/data/aptos2019/train_imag...</td>\n",
       "      <td>test</td>\n",
       "    </tr>\n",
       "    <tr>\n",
       "      <th>3658</th>\n",
       "      <td>ffc04fed30e6</td>\n",
       "      <td>0</td>\n",
       "      <td>2</td>\n",
       "      <td>/vol/biomedic3/mb121/data/aptos2019/train_imag...</td>\n",
       "      <td>test</td>\n",
       "    </tr>\n",
       "    <tr>\n",
       "      <th>3659</th>\n",
       "      <td>ffcf7b45f213</td>\n",
       "      <td>2</td>\n",
       "      <td>2</td>\n",
       "      <td>/vol/biomedic3/mb121/data/aptos2019/train_imag...</td>\n",
       "      <td>test</td>\n",
       "    </tr>\n",
       "    <tr>\n",
       "      <th>3660</th>\n",
       "      <td>ffd97f8cd5aa</td>\n",
       "      <td>0</td>\n",
       "      <td>2</td>\n",
       "      <td>/vol/biomedic3/mb121/data/aptos2019/train_imag...</td>\n",
       "      <td>train</td>\n",
       "    </tr>\n",
       "    <tr>\n",
       "      <th>3661</th>\n",
       "      <td>ffec9a18a3ce</td>\n",
       "      <td>2</td>\n",
       "      <td>2</td>\n",
       "      <td>/vol/biomedic3/mb121/data/aptos2019/train_imag...</td>\n",
       "      <td>train</td>\n",
       "    </tr>\n",
       "  </tbody>\n",
       "</table>\n",
       "<p>3662 rows × 5 columns</p>\n",
       "</div>"
      ],
      "text/plain": [
       "           id_code  diagnosis  site  \\\n",
       "0     000c1434d8d7          2     2   \n",
       "1     001639a390f0          4     2   \n",
       "2     0024cdab0c1e          1     2   \n",
       "3     002c21358ce6          0     2   \n",
       "4     005b95c28852          0     2   \n",
       "...            ...        ...   ...   \n",
       "3657  ffa47f6a7bf4          2     2   \n",
       "3658  ffc04fed30e6          0     2   \n",
       "3659  ffcf7b45f213          2     2   \n",
       "3660  ffd97f8cd5aa          0     2   \n",
       "3661  ffec9a18a3ce          2     2   \n",
       "\n",
       "                                               img_path  split  \n",
       "0     /vol/biomedic3/mb121/data/aptos2019/train_imag...   test  \n",
       "1     /vol/biomedic3/mb121/data/aptos2019/train_imag...    val  \n",
       "2     /vol/biomedic3/mb121/data/aptos2019/train_imag...  train  \n",
       "3     /vol/biomedic3/mb121/data/aptos2019/train_imag...   test  \n",
       "4     /vol/biomedic3/mb121/data/aptos2019/train_imag...   test  \n",
       "...                                                 ...    ...  \n",
       "3657  /vol/biomedic3/mb121/data/aptos2019/train_imag...   test  \n",
       "3658  /vol/biomedic3/mb121/data/aptos2019/train_imag...   test  \n",
       "3659  /vol/biomedic3/mb121/data/aptos2019/train_imag...   test  \n",
       "3660  /vol/biomedic3/mb121/data/aptos2019/train_imag...  train  \n",
       "3661  /vol/biomedic3/mb121/data/aptos2019/train_imag...  train  \n",
       "\n",
       "[3662 rows x 5 columns]"
      ]
     },
     "execution_count": 3,
     "metadata": {},
     "output_type": "execute_result"
    }
   ],
   "source": [
    "df_a = pd.read_csv(APTOS_ROOT / \"train.csv\")\n",
    "df_a[\"site\"] = 2\n",
    "df_a[\"img_path\"] = df_a[\"id_code\"].apply(\n",
    "    lambda image_name: APTOS_ROOT / \"train_images\" / f\"{image_name}.png\"\n",
    ")\n",
    "df_a\n",
    "train_id, val_test_id = train_test_split(np.arange(len(df_a)), train_size=0.40)\n",
    "val_id, test_id = train_test_split(val_test_id, train_size=0.20)\n",
    "df_a.loc[train_id, \"split\"] = \"train\"\n",
    "df_a.loc[val_id, \"split\"] = \"val\"\n",
    "df_a.loc[test_id, \"split\"] = \"test\"\n",
    "df_a"
   ]
  },
  {
   "cell_type": "markdown",
   "metadata": {},
   "source": [
    "## Load EyePACS dataset"
   ]
  },
  {
   "cell_type": "code",
   "execution_count": 4,
   "metadata": {},
   "outputs": [
    {
     "ename": "PermissionError",
     "evalue": "[Errno 13] Permission denied: '/vol/biodata/data/diabetic_retino/trainLabels.csv'",
     "output_type": "error",
     "traceback": [
      "\u001b[31m---------------------------------------------------------------------------\u001b[39m",
      "\u001b[31mPermissionError\u001b[39m                           Traceback (most recent call last)",
      "\u001b[36mCell\u001b[39m\u001b[36m \u001b[39m\u001b[32mIn[4]\u001b[39m\u001b[32m, line 1\u001b[39m\n\u001b[32m----> \u001b[39m\u001b[32m1\u001b[39m train_df = \u001b[43mpd\u001b[49m\u001b[43m.\u001b[49m\u001b[43mread_csv\u001b[49m\u001b[43m(\u001b[49m\u001b[43mDIABETIC_ROOT\u001b[49m\u001b[43m \u001b[49m\u001b[43m/\u001b[49m\u001b[43m \u001b[49m\u001b[33;43m\"\u001b[39;49m\u001b[33;43mtrainLabels.csv\u001b[39;49m\u001b[33;43m\"\u001b[39;49m\u001b[43m)\u001b[49m\n\u001b[32m      2\u001b[39m train_df[\u001b[33m\"\u001b[39m\u001b[33mimg_path\u001b[39m\u001b[33m\"\u001b[39m] = train_df[\u001b[33m\"\u001b[39m\u001b[33mimage\u001b[39m\u001b[33m\"\u001b[39m].apply(\n\u001b[32m      3\u001b[39m     \u001b[38;5;28;01mlambda\u001b[39;00m x: DIABETIC_ROOT / \u001b[33m\"\u001b[39m\u001b[33mtrain\u001b[39m\u001b[33m\"\u001b[39m / \u001b[33mf\u001b[39m\u001b[33m\"\u001b[39m\u001b[38;5;132;01m{\u001b[39;00mx\u001b[38;5;132;01m}\u001b[39;00m\u001b[33m.jpeg\u001b[39m\u001b[33m\"\u001b[39m\n\u001b[32m      4\u001b[39m )\n\u001b[32m      5\u001b[39m val_test_df = pd.read_csv(DIABETIC_ROOT / \u001b[33m\"\u001b[39m\u001b[33mretinopathy_solution.csv\u001b[39m\u001b[33m\"\u001b[39m)\n",
      "\u001b[36mFile \u001b[39m\u001b[32m/vol/biomedic3/bglocker/mscproj/zm1224/msc_individual_project/venv/lib/python3.12/site-packages/pandas/io/parsers/readers.py:1026\u001b[39m, in \u001b[36mread_csv\u001b[39m\u001b[34m(filepath_or_buffer, sep, delimiter, header, names, index_col, usecols, dtype, engine, converters, true_values, false_values, skipinitialspace, skiprows, skipfooter, nrows, na_values, keep_default_na, na_filter, verbose, skip_blank_lines, parse_dates, infer_datetime_format, keep_date_col, date_parser, date_format, dayfirst, cache_dates, iterator, chunksize, compression, thousands, decimal, lineterminator, quotechar, quoting, doublequote, escapechar, comment, encoding, encoding_errors, dialect, on_bad_lines, delim_whitespace, low_memory, memory_map, float_precision, storage_options, dtype_backend)\u001b[39m\n\u001b[32m   1013\u001b[39m kwds_defaults = _refine_defaults_read(\n\u001b[32m   1014\u001b[39m     dialect,\n\u001b[32m   1015\u001b[39m     delimiter,\n\u001b[32m   (...)\u001b[39m\u001b[32m   1022\u001b[39m     dtype_backend=dtype_backend,\n\u001b[32m   1023\u001b[39m )\n\u001b[32m   1024\u001b[39m kwds.update(kwds_defaults)\n\u001b[32m-> \u001b[39m\u001b[32m1026\u001b[39m \u001b[38;5;28;01mreturn\u001b[39;00m \u001b[43m_read\u001b[49m\u001b[43m(\u001b[49m\u001b[43mfilepath_or_buffer\u001b[49m\u001b[43m,\u001b[49m\u001b[43m \u001b[49m\u001b[43mkwds\u001b[49m\u001b[43m)\u001b[49m\n",
      "\u001b[36mFile \u001b[39m\u001b[32m/vol/biomedic3/bglocker/mscproj/zm1224/msc_individual_project/venv/lib/python3.12/site-packages/pandas/io/parsers/readers.py:620\u001b[39m, in \u001b[36m_read\u001b[39m\u001b[34m(filepath_or_buffer, kwds)\u001b[39m\n\u001b[32m    617\u001b[39m _validate_names(kwds.get(\u001b[33m\"\u001b[39m\u001b[33mnames\u001b[39m\u001b[33m\"\u001b[39m, \u001b[38;5;28;01mNone\u001b[39;00m))\n\u001b[32m    619\u001b[39m \u001b[38;5;66;03m# Create the parser.\u001b[39;00m\n\u001b[32m--> \u001b[39m\u001b[32m620\u001b[39m parser = \u001b[43mTextFileReader\u001b[49m\u001b[43m(\u001b[49m\u001b[43mfilepath_or_buffer\u001b[49m\u001b[43m,\u001b[49m\u001b[43m \u001b[49m\u001b[43m*\u001b[49m\u001b[43m*\u001b[49m\u001b[43mkwds\u001b[49m\u001b[43m)\u001b[49m\n\u001b[32m    622\u001b[39m \u001b[38;5;28;01mif\u001b[39;00m chunksize \u001b[38;5;129;01mor\u001b[39;00m iterator:\n\u001b[32m    623\u001b[39m     \u001b[38;5;28;01mreturn\u001b[39;00m parser\n",
      "\u001b[36mFile \u001b[39m\u001b[32m/vol/biomedic3/bglocker/mscproj/zm1224/msc_individual_project/venv/lib/python3.12/site-packages/pandas/io/parsers/readers.py:1620\u001b[39m, in \u001b[36mTextFileReader.__init__\u001b[39m\u001b[34m(self, f, engine, **kwds)\u001b[39m\n\u001b[32m   1617\u001b[39m     \u001b[38;5;28mself\u001b[39m.options[\u001b[33m\"\u001b[39m\u001b[33mhas_index_names\u001b[39m\u001b[33m\"\u001b[39m] = kwds[\u001b[33m\"\u001b[39m\u001b[33mhas_index_names\u001b[39m\u001b[33m\"\u001b[39m]\n\u001b[32m   1619\u001b[39m \u001b[38;5;28mself\u001b[39m.handles: IOHandles | \u001b[38;5;28;01mNone\u001b[39;00m = \u001b[38;5;28;01mNone\u001b[39;00m\n\u001b[32m-> \u001b[39m\u001b[32m1620\u001b[39m \u001b[38;5;28mself\u001b[39m._engine = \u001b[38;5;28;43mself\u001b[39;49m\u001b[43m.\u001b[49m\u001b[43m_make_engine\u001b[49m\u001b[43m(\u001b[49m\u001b[43mf\u001b[49m\u001b[43m,\u001b[49m\u001b[43m \u001b[49m\u001b[38;5;28;43mself\u001b[39;49m\u001b[43m.\u001b[49m\u001b[43mengine\u001b[49m\u001b[43m)\u001b[49m\n",
      "\u001b[36mFile \u001b[39m\u001b[32m/vol/biomedic3/bglocker/mscproj/zm1224/msc_individual_project/venv/lib/python3.12/site-packages/pandas/io/parsers/readers.py:1880\u001b[39m, in \u001b[36mTextFileReader._make_engine\u001b[39m\u001b[34m(self, f, engine)\u001b[39m\n\u001b[32m   1878\u001b[39m     \u001b[38;5;28;01mif\u001b[39;00m \u001b[33m\"\u001b[39m\u001b[33mb\u001b[39m\u001b[33m\"\u001b[39m \u001b[38;5;129;01mnot\u001b[39;00m \u001b[38;5;129;01min\u001b[39;00m mode:\n\u001b[32m   1879\u001b[39m         mode += \u001b[33m\"\u001b[39m\u001b[33mb\u001b[39m\u001b[33m\"\u001b[39m\n\u001b[32m-> \u001b[39m\u001b[32m1880\u001b[39m \u001b[38;5;28mself\u001b[39m.handles = \u001b[43mget_handle\u001b[49m\u001b[43m(\u001b[49m\n\u001b[32m   1881\u001b[39m \u001b[43m    \u001b[49m\u001b[43mf\u001b[49m\u001b[43m,\u001b[49m\n\u001b[32m   1882\u001b[39m \u001b[43m    \u001b[49m\u001b[43mmode\u001b[49m\u001b[43m,\u001b[49m\n\u001b[32m   1883\u001b[39m \u001b[43m    \u001b[49m\u001b[43mencoding\u001b[49m\u001b[43m=\u001b[49m\u001b[38;5;28;43mself\u001b[39;49m\u001b[43m.\u001b[49m\u001b[43moptions\u001b[49m\u001b[43m.\u001b[49m\u001b[43mget\u001b[49m\u001b[43m(\u001b[49m\u001b[33;43m\"\u001b[39;49m\u001b[33;43mencoding\u001b[39;49m\u001b[33;43m\"\u001b[39;49m\u001b[43m,\u001b[49m\u001b[43m \u001b[49m\u001b[38;5;28;43;01mNone\u001b[39;49;00m\u001b[43m)\u001b[49m\u001b[43m,\u001b[49m\n\u001b[32m   1884\u001b[39m \u001b[43m    \u001b[49m\u001b[43mcompression\u001b[49m\u001b[43m=\u001b[49m\u001b[38;5;28;43mself\u001b[39;49m\u001b[43m.\u001b[49m\u001b[43moptions\u001b[49m\u001b[43m.\u001b[49m\u001b[43mget\u001b[49m\u001b[43m(\u001b[49m\u001b[33;43m\"\u001b[39;49m\u001b[33;43mcompression\u001b[39;49m\u001b[33;43m\"\u001b[39;49m\u001b[43m,\u001b[49m\u001b[43m \u001b[49m\u001b[38;5;28;43;01mNone\u001b[39;49;00m\u001b[43m)\u001b[49m\u001b[43m,\u001b[49m\n\u001b[32m   1885\u001b[39m \u001b[43m    \u001b[49m\u001b[43mmemory_map\u001b[49m\u001b[43m=\u001b[49m\u001b[38;5;28;43mself\u001b[39;49m\u001b[43m.\u001b[49m\u001b[43moptions\u001b[49m\u001b[43m.\u001b[49m\u001b[43mget\u001b[49m\u001b[43m(\u001b[49m\u001b[33;43m\"\u001b[39;49m\u001b[33;43mmemory_map\u001b[39;49m\u001b[33;43m\"\u001b[39;49m\u001b[43m,\u001b[49m\u001b[43m \u001b[49m\u001b[38;5;28;43;01mFalse\u001b[39;49;00m\u001b[43m)\u001b[49m\u001b[43m,\u001b[49m\n\u001b[32m   1886\u001b[39m \u001b[43m    \u001b[49m\u001b[43mis_text\u001b[49m\u001b[43m=\u001b[49m\u001b[43mis_text\u001b[49m\u001b[43m,\u001b[49m\n\u001b[32m   1887\u001b[39m \u001b[43m    \u001b[49m\u001b[43merrors\u001b[49m\u001b[43m=\u001b[49m\u001b[38;5;28;43mself\u001b[39;49m\u001b[43m.\u001b[49m\u001b[43moptions\u001b[49m\u001b[43m.\u001b[49m\u001b[43mget\u001b[49m\u001b[43m(\u001b[49m\u001b[33;43m\"\u001b[39;49m\u001b[33;43mencoding_errors\u001b[39;49m\u001b[33;43m\"\u001b[39;49m\u001b[43m,\u001b[49m\u001b[43m \u001b[49m\u001b[33;43m\"\u001b[39;49m\u001b[33;43mstrict\u001b[39;49m\u001b[33;43m\"\u001b[39;49m\u001b[43m)\u001b[49m\u001b[43m,\u001b[49m\n\u001b[32m   1888\u001b[39m \u001b[43m    \u001b[49m\u001b[43mstorage_options\u001b[49m\u001b[43m=\u001b[49m\u001b[38;5;28;43mself\u001b[39;49m\u001b[43m.\u001b[49m\u001b[43moptions\u001b[49m\u001b[43m.\u001b[49m\u001b[43mget\u001b[49m\u001b[43m(\u001b[49m\u001b[33;43m\"\u001b[39;49m\u001b[33;43mstorage_options\u001b[39;49m\u001b[33;43m\"\u001b[39;49m\u001b[43m,\u001b[49m\u001b[43m \u001b[49m\u001b[38;5;28;43;01mNone\u001b[39;49;00m\u001b[43m)\u001b[49m\u001b[43m,\u001b[49m\n\u001b[32m   1889\u001b[39m \u001b[43m\u001b[49m\u001b[43m)\u001b[49m\n\u001b[32m   1890\u001b[39m \u001b[38;5;28;01massert\u001b[39;00m \u001b[38;5;28mself\u001b[39m.handles \u001b[38;5;129;01mis\u001b[39;00m \u001b[38;5;129;01mnot\u001b[39;00m \u001b[38;5;28;01mNone\u001b[39;00m\n\u001b[32m   1891\u001b[39m f = \u001b[38;5;28mself\u001b[39m.handles.handle\n",
      "\u001b[36mFile \u001b[39m\u001b[32m/vol/biomedic3/bglocker/mscproj/zm1224/msc_individual_project/venv/lib/python3.12/site-packages/pandas/io/common.py:873\u001b[39m, in \u001b[36mget_handle\u001b[39m\u001b[34m(path_or_buf, mode, encoding, compression, memory_map, is_text, errors, storage_options)\u001b[39m\n\u001b[32m    868\u001b[39m \u001b[38;5;28;01melif\u001b[39;00m \u001b[38;5;28misinstance\u001b[39m(handle, \u001b[38;5;28mstr\u001b[39m):\n\u001b[32m    869\u001b[39m     \u001b[38;5;66;03m# Check whether the filename is to be opened in binary mode.\u001b[39;00m\n\u001b[32m    870\u001b[39m     \u001b[38;5;66;03m# Binary mode does not support 'encoding' and 'newline'.\u001b[39;00m\n\u001b[32m    871\u001b[39m     \u001b[38;5;28;01mif\u001b[39;00m ioargs.encoding \u001b[38;5;129;01mand\u001b[39;00m \u001b[33m\"\u001b[39m\u001b[33mb\u001b[39m\u001b[33m\"\u001b[39m \u001b[38;5;129;01mnot\u001b[39;00m \u001b[38;5;129;01min\u001b[39;00m ioargs.mode:\n\u001b[32m    872\u001b[39m         \u001b[38;5;66;03m# Encoding\u001b[39;00m\n\u001b[32m--> \u001b[39m\u001b[32m873\u001b[39m         handle = \u001b[38;5;28;43mopen\u001b[39;49m\u001b[43m(\u001b[49m\n\u001b[32m    874\u001b[39m \u001b[43m            \u001b[49m\u001b[43mhandle\u001b[49m\u001b[43m,\u001b[49m\n\u001b[32m    875\u001b[39m \u001b[43m            \u001b[49m\u001b[43mioargs\u001b[49m\u001b[43m.\u001b[49m\u001b[43mmode\u001b[49m\u001b[43m,\u001b[49m\n\u001b[32m    876\u001b[39m \u001b[43m            \u001b[49m\u001b[43mencoding\u001b[49m\u001b[43m=\u001b[49m\u001b[43mioargs\u001b[49m\u001b[43m.\u001b[49m\u001b[43mencoding\u001b[49m\u001b[43m,\u001b[49m\n\u001b[32m    877\u001b[39m \u001b[43m            \u001b[49m\u001b[43merrors\u001b[49m\u001b[43m=\u001b[49m\u001b[43merrors\u001b[49m\u001b[43m,\u001b[49m\n\u001b[32m    878\u001b[39m \u001b[43m            \u001b[49m\u001b[43mnewline\u001b[49m\u001b[43m=\u001b[49m\u001b[33;43m\"\u001b[39;49m\u001b[33;43m\"\u001b[39;49m\u001b[43m,\u001b[49m\n\u001b[32m    879\u001b[39m \u001b[43m        \u001b[49m\u001b[43m)\u001b[49m\n\u001b[32m    880\u001b[39m     \u001b[38;5;28;01melse\u001b[39;00m:\n\u001b[32m    881\u001b[39m         \u001b[38;5;66;03m# Binary mode\u001b[39;00m\n\u001b[32m    882\u001b[39m         handle = \u001b[38;5;28mopen\u001b[39m(handle, ioargs.mode)\n",
      "\u001b[31mPermissionError\u001b[39m: [Errno 13] Permission denied: '/vol/biodata/data/diabetic_retino/trainLabels.csv'"
     ]
    }
   ],
   "source": [
    "train_df = pd.read_csv(DIABETIC_ROOT / \"trainLabels.csv\")\n",
    "train_df[\"img_path\"] = train_df[\"image\"].apply(\n",
    "    lambda x: DIABETIC_ROOT / \"train\" / f\"{x}.jpeg\"\n",
    ")\n",
    "val_test_df = pd.read_csv(DIABETIC_ROOT / \"retinopathy_solution.csv\")\n",
    "val_test_df[\"img_path\"] = val_test_df[\"image\"].apply(\n",
    "    lambda x: DIABETIC_ROOT / \"test\" / f\"{x}.jpeg\"\n",
    ")\n",
    "all_eyepacs = pd.concat([train_df], ignore_index=True)\n",
    "all_eyepacs[\"site\"] = 3\n",
    "all_eyepacs[\"diagnosis\"] = all_eyepacs[\"level\"]\n",
    "train_id, val_test_id = train_test_split(np.arange(len(all_eyepacs)), train_size=0.40)\n",
    "val_id, test_id = train_test_split(val_test_id, train_size=0.20)\n",
    "all_eyepacs.loc[train_id, \"split\"] = \"train\"\n",
    "all_eyepacs.loc[val_id, \"split\"] = \"val\"\n",
    "all_eyepacs.loc[test_id, \"split\"] = \"test\"\n",
    "all_eyepacs"
   ]
  },
  {
   "cell_type": "markdown",
   "metadata": {},
   "source": [
    "## Create combined RETINA dataset"
   ]
  },
  {
   "cell_type": "code",
   "execution_count": null,
   "metadata": {},
   "outputs": [],
   "source": [
    "combined_df = pd.concat([df_a, df_m, all_eyepacs], ignore_index=True)[\n",
    "    [\"diagnosis\", \"img_path\", \"site\", \"split\"]\n",
    "]\n",
    "combined_df[\"binary_diagnosis\"] = combined_df[\"diagnosis\"].apply(lambda x: x < 2)\n",
    "combined_df.dropna(subset=\"diagnosis\", inplace=True)\n",
    "combined_df"
   ]
  },
  {
   "cell_type": "markdown",
   "metadata": {},
   "source": [
    "## Create train, test, val splits csv"
   ]
  },
  {
   "cell_type": "code",
   "execution_count": null,
   "metadata": {},
   "outputs": [],
   "source": [
    "test_df = combined_df.loc[combined_df.split == \"test\"]\n",
    "val_df = combined_df.loc[combined_df.split == \"val\"]\n",
    "train_df = combined_df.loc[combined_df.split == \"train\"]\n",
    "\n",
    "train_df.to_csv(\n",
    "    Path(path_to_root) / \"experiments\" / \"retina_train.csv\",\n",
    "    index=False,\n",
    ")\n",
    "val_df.to_csv(Path(path_to_root) / \"experiments\" / \"retina_val.csv\", index=False)\n",
    "test_df.to_csv(Path(path_to_root) / \"experiments\" / \"retina_test.csv\", index=False)"
   ]
  },
  {
   "cell_type": "markdown",
   "metadata": {},
   "source": [
    "## Print stats"
   ]
  },
  {
   "cell_type": "code",
   "execution_count": null,
   "metadata": {},
   "outputs": [],
   "source": [
    "(\n",
    "    train_df.binary_diagnosis.value_counts(normalize=True),\n",
    "    train_df.binary_diagnosis.value_counts(normalize=False),\n",
    ")"
   ]
  },
  {
   "cell_type": "code",
   "execution_count": null,
   "metadata": {},
   "outputs": [],
   "source": [
    "(\n",
    "    test_df.binary_diagnosis.value_counts(normalize=True),\n",
    "    test_df.binary_diagnosis.value_counts(normalize=False),\n",
    ")"
   ]
  },
  {
   "cell_type": "code",
   "execution_count": null,
   "metadata": {},
   "outputs": [],
   "source": [
    "(\n",
    "    train_df.site.value_counts(normalize=True),\n",
    "    val_df.site.value_counts(normalize=True),\n",
    "    test_df.site.value_counts(normalize=True),\n",
    "    test_df.site.value_counts(normalize=False),\n",
    ")"
   ]
  }
 ],
 "metadata": {
  "kernelspec": {
   "display_name": "venv",
   "language": "python",
   "name": "python3"
  },
  "language_info": {
   "codemirror_mode": {
    "name": "ipython",
    "version": 3
   },
   "file_extension": ".py",
   "mimetype": "text/x-python",
   "name": "python",
   "nbconvert_exporter": "python",
   "pygments_lexer": "ipython3",
   "version": "3.12.3"
  }
 },
 "nbformat": 4,
 "nbformat_minor": 2
}
