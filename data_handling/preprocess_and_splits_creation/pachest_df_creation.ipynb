{
 "cells": [
  {
   "cell_type": "markdown",
   "metadata": {},
   "source": [
    "# Prepare PadChest split csv"
   ]
  },
  {
   "cell_type": "code",
   "execution_count": 1,
   "metadata": {},
   "outputs": [],
   "source": [
    "import pandas as pd\n",
    "from datetime import datetime\n",
    "\n",
    "path_to_root = \"/vol/biomedic3/bglocker/mscproj/zm1224/msc_individual_project/\"\n",
    "import sys\n",
    "\n",
    "sys.path.append(path_to_root)\n",
    "from default_paths import PADCHEST_ROOT, ROOT"
   ]
  },
  {
   "cell_type": "markdown",
   "metadata": {},
   "source": [
    "## Load original csv file"
   ]
  },
  {
   "cell_type": "code",
   "execution_count": 2,
   "metadata": {},
   "outputs": [
    {
     "name": "stdout",
     "output_type": "stream",
     "text": [
      "pneumonia\n",
      "False    88389\n",
      "True      3286\n",
      "Name: count, dtype: int64\n",
      "exclude\n",
      "False    90862\n",
      "True       813\n",
      "Name: count, dtype: int64\n",
      "suboptimal study\n",
      "False    91024\n",
      "True       651\n",
      "Name: count, dtype: int64\n"
     ]
    }
   ],
   "source": [
    "df = pd.read_csv(PADCHEST_ROOT / \"PADCHEST_chest_x_ray_images_labels_160K_01.02.19.csv\")\n",
    "df = df.loc[df.Pediatric == \"No\"]\n",
    "df = df.loc[df.Projection.isin([\"PA\"])]\n",
    "\n",
    "\n",
    "def process(x, target):\n",
    "    if isinstance(x, str):\n",
    "        list_labels = x[1:-1].split(\",\")\n",
    "        list_labels = [label.replace(\"'\", \"\").strip() for label in list_labels]\n",
    "        return target in list_labels\n",
    "    else:\n",
    "        return False\n",
    "\n",
    "\n",
    "for label in [\n",
    "    \"pneumonia\",\n",
    "    \"exclude\",\n",
    "    \"suboptimal study\",\n",
    "]:\n",
    "    df[label] = df.Labels.astype(str).apply(lambda x: process(x, label))\n",
    "    print(df[label].value_counts())\n",
    "df = df.loc[~df.exclude]\n",
    "df = df.loc[~df[\"suboptimal study\"]]\n",
    "df[\"Manufacturer\"] = df.Manufacturer_DICOM.apply(\n",
    "    lambda x: \"Phillips\" if x == \"PhilipsMedicalSystems\" else \"Imaging\"\n",
    ")\n",
    "df = df.loc[df[\"PatientSex_DICOM\"].isin([\"M\", \"F\"])]\n",
    "df[\"PatientAge\"] = (\n",
    "    df.StudyDate_DICOM.apply(lambda x: datetime.strptime(str(x), \"%Y%M%d\").year)\n",
    "    - df.PatientBirth\n",
    ")\n",
    "invalid_filenames = [\n",
    "    \"216840111366964013829543166512013353113303615_02-092-190.png\",\n",
    "    \"216840111366964013962490064942014134093945580_01-178-104.png\",\n",
    "    \"216840111366964012989926673512011151082430686_00-157-045.png\",\n",
    "    \"216840111366964012558082906712009327122220177_00-102-064.png\",\n",
    "    \"216840111366964012959786098432011033083840143_00-176-115.png\",\n",
    "    \"216840111366964012373310883942009152114636712_00-102-045.png\",\n",
    "    \"216840111366964012487858717522009280135853083_00-075-001.png\",\n",
    "    \"216840111366964012819207061112010307142602253_04-014-084.png\",\n",
    "    \"216840111366964012989926673512011074122523403_00-163-058.png\",\n",
    "    \"216840111366964013590140476722013058110301622_02-056-111.png\",\n",
    "    \"216840111366964012339356563862009072111404053_00-043-192.png\",\n",
    "    \"216840111366964013590140476722013043111952381_02-065-198.png\",\n",
    "    \"216840111366964012819207061112010281134410801_00-129-131.png\",\n",
    "    \"216840111366964013686042548532013208193054515_02-026-007.png\",\n",
    "    \"216840111366964012989926673512011083134050913_00-168-009.png\",\n",
    "    \"216840111366964012373310883942009170084120009_00-097-074.png\",\n",
    "]\n",
    "df = df.loc[~df.ImageID.isin(invalid_filenames)]"
   ]
  },
  {
   "cell_type": "code",
   "execution_count": 3,
   "metadata": {},
   "outputs": [
    {
     "data": {
      "application/vnd.microsoft.datawrangler.viewer.v0+json": {
       "columns": [
        {
         "name": "pneumonia",
         "rawType": "bool",
         "type": "boolean"
        },
        {
         "name": "proportion",
         "rawType": "float64",
         "type": "float"
        }
       ],
       "ref": "82b8538c-47eb-44f7-982a-fe81d37f6a5a",
       "rows": [
        [
         "False",
         "0.9638631701502467"
        ],
        [
         "True",
         "0.036136829849753284"
        ]
       ],
       "shape": {
        "columns": 1,
        "rows": 2
       }
      },
      "text/plain": [
       "pneumonia\n",
       "False    0.963863\n",
       "True     0.036137\n",
       "Name: proportion, dtype: float64"
      ]
     },
     "execution_count": 3,
     "metadata": {},
     "output_type": "execute_result"
    }
   ],
   "source": [
    "df.pneumonia.value_counts(normalize=True)"
   ]
  },
  {
   "cell_type": "code",
   "execution_count": 4,
   "metadata": {},
   "outputs": [
    {
     "data": {
      "text/plain": [
       "(PatientSex_DICOM\n",
       " F    0.513478\n",
       " M    0.486522\n",
       " Name: proportion, dtype: float64,\n",
       " PatientSex_DICOM\n",
       " F    46308\n",
       " M    43877\n",
       " Name: count, dtype: int64)"
      ]
     },
     "execution_count": 4,
     "metadata": {},
     "output_type": "execute_result"
    }
   ],
   "source": [
    "(\n",
    "    df[\"PatientSex_DICOM\"].value_counts(normalize=True),\n",
    "    df[\"PatientSex_DICOM\"].value_counts(),\n",
    ")"
   ]
  },
  {
   "cell_type": "code",
   "execution_count": 5,
   "metadata": {},
   "outputs": [
    {
     "data": {
      "text/plain": [
       "(Manufacturer\n",
       " Imaging     0.599002\n",
       " Phillips    0.400998\n",
       " Name: proportion, dtype: float64,\n",
       " Manufacturer\n",
       " Imaging     54021\n",
       " Phillips    36164\n",
       " Name: count, dtype: int64)"
      ]
     },
     "execution_count": 5,
     "metadata": {},
     "output_type": "execute_result"
    }
   ],
   "source": [
    "df[\"Manufacturer\"].value_counts(normalize=True), df[\"Manufacturer\"].value_counts()"
   ]
  },
  {
   "cell_type": "markdown",
   "metadata": {},
   "source": [
    "## Prepare and save splits"
   ]
  },
  {
   "cell_type": "code",
   "execution_count": 6,
   "metadata": {},
   "outputs": [],
   "source": [
    "from sklearn.model_selection import train_test_split\n",
    "import numpy as np\n",
    "\n",
    "random_seed_for_splits = 33\n",
    "\n",
    "indices_train_val, indices_test = train_test_split(\n",
    "    df.PatientID.unique(),\n",
    "    test_size=0.2,\n",
    "    random_state=random_seed_for_splits,\n",
    "    stratify=df.groupby(\"PatientID\").pneumonia.max(),\n",
    ")\n",
    "\n",
    "train_val_df = df.loc[df.PatientID.isin(indices_train_val)]\n",
    "test_df = df.loc[df.PatientID.isin(indices_test)]\n",
    "\n",
    "# Further split train and val\n",
    "indices_train, indices_val = train_test_split(\n",
    "    train_val_df.PatientID.unique(),\n",
    "    test_size=0.2,\n",
    "    random_state=random_seed_for_splits,\n",
    "    stratify=train_val_df.groupby(\"PatientID\").pneumonia.max(),\n",
    ")\n",
    "\n",
    "train_df = train_val_df.loc[train_val_df.PatientID.isin(indices_train)]\n",
    "val_df = train_val_df.loc[train_val_df.PatientID.isin(indices_val)]"
   ]
  },
  {
   "cell_type": "code",
   "execution_count": 7,
   "metadata": {},
   "outputs": [
    {
     "data": {
      "text/plain": [
       "(pneumonia\n",
       " False    0.963784\n",
       " True     0.036216\n",
       " Name: proportion, dtype: float64,\n",
       " pneumonia\n",
       " False    55460\n",
       " True      2084\n",
       " Name: count, dtype: int64)"
      ]
     },
     "execution_count": 7,
     "metadata": {},
     "output_type": "execute_result"
    }
   ],
   "source": [
    "(\n",
    "    train_df.pneumonia.value_counts(normalize=True),\n",
    "    train_df.pneumonia.value_counts(normalize=False),\n",
    ")"
   ]
  },
  {
   "cell_type": "code",
   "execution_count": 8,
   "metadata": {},
   "outputs": [
    {
     "data": {
      "text/plain": [
       "(pneumonia\n",
       " False    0.963728\n",
       " True     0.036272\n",
       " Name: proportion, dtype: float64,\n",
       " pneumonia\n",
       " False    13949\n",
       " True       525\n",
       " Name: count, dtype: int64)"
      ]
     },
     "execution_count": 8,
     "metadata": {},
     "output_type": "execute_result"
    }
   ],
   "source": [
    "(\n",
    "    val_df.pneumonia.value_counts(normalize=True),\n",
    "    val_df.pneumonia.value_counts(normalize=False),\n",
    ")"
   ]
  },
  {
   "cell_type": "code",
   "execution_count": 9,
   "metadata": {},
   "outputs": [
    {
     "data": {
      "text/plain": [
       "(pneumonia\n",
       " False    0.964221\n",
       " True     0.035779\n",
       " Name: proportion, dtype: float64,\n",
       " pneumonia\n",
       " False    17517\n",
       " True       650\n",
       " Name: count, dtype: int64)"
      ]
     },
     "execution_count": 9,
     "metadata": {},
     "output_type": "execute_result"
    }
   ],
   "source": [
    "(\n",
    "    test_df.pneumonia.value_counts(normalize=True),\n",
    "    test_df.pneumonia.value_counts(normalize=False),\n",
    ")"
   ]
  },
  {
   "cell_type": "code",
   "execution_count": 10,
   "metadata": {},
   "outputs": [
    {
     "data": {
      "text/plain": [
       "(PatientSex_DICOM\n",
       " F    0.513277\n",
       " M    0.486723\n",
       " Name: proportion, dtype: float64,\n",
       " PatientSex_DICOM\n",
       " F    0.511538\n",
       " M    0.488462\n",
       " Name: proportion, dtype: float64,\n",
       " PatientSex_DICOM\n",
       " F    0.51566\n",
       " M    0.48434\n",
       " Name: proportion, dtype: float64)"
      ]
     },
     "execution_count": 10,
     "metadata": {},
     "output_type": "execute_result"
    }
   ],
   "source": [
    "(\n",
    "    train_df[\"PatientSex_DICOM\"].value_counts(normalize=True),\n",
    "    val_df[\"PatientSex_DICOM\"].value_counts(normalize=True),\n",
    "    test_df[\"PatientSex_DICOM\"].value_counts(normalize=True),\n",
    ")"
   ]
  },
  {
   "cell_type": "code",
   "execution_count": 11,
   "metadata": {},
   "outputs": [],
   "source": [
    "train_df.to_csv(ROOT / \"experiments\" / \"train_padchest.csv\")"
   ]
  },
  {
   "cell_type": "code",
   "execution_count": 12,
   "metadata": {},
   "outputs": [],
   "source": [
    "val_df.to_csv(ROOT / \"experiments\" / \"val_padchest.csv\")"
   ]
  },
  {
   "cell_type": "code",
   "execution_count": 13,
   "metadata": {},
   "outputs": [
    {
     "name": "stderr",
     "output_type": "stream",
     "text": [
      "/tmp/ipykernel_1723130/1919396321.py:1: SettingWithCopyWarning: \n",
      "A value is trying to be set on a copy of a slice from a DataFrame.\n",
      "Try using .loc[row_indexer,col_indexer] = value instead\n",
      "\n",
      "See the caveats in the documentation: https://pandas.pydata.org/pandas-docs/stable/user_guide/indexing.html#returning-a-view-versus-a-copy\n",
      "  test_df[\"idx_in_original_test\"] = np.arange(len(test_df))\n"
     ]
    }
   ],
   "source": [
    "test_df[\"idx_in_original_test\"] = np.arange(len(test_df))\n",
    "test_df.to_csv(ROOT / \"experiments\" / \"test_padchest.csv\")"
   ]
  },
  {
   "cell_type": "markdown",
   "metadata": {},
   "source": [
    "## Create example of shifted dataset for the motivating example (Appendix A)"
   ]
  },
  {
   "cell_type": "code",
   "execution_count": 14,
   "metadata": {},
   "outputs": [],
   "source": [
    "imaging_test = test_df.loc[test_df[\"Manufacturer\"] == \"Imaging\"]\n",
    "phillips_test = test_df.loc[test_df[\"Manufacturer\"] == \"Phillips\"]"
   ]
  },
  {
   "cell_type": "code",
   "execution_count": 15,
   "metadata": {},
   "outputs": [
    {
     "data": {
      "text/plain": [
       "(7172, 1793)"
      ]
     },
     "execution_count": 15,
     "metadata": {},
     "output_type": "execute_result"
    }
   ],
   "source": [
    "# Sample with 80% of phillips\n",
    "n_phillips = len(phillips_test)\n",
    "n_imaging = int(0.2 * n_phillips / 0.8)\n",
    "n_phillips, n_imaging"
   ]
  },
  {
   "cell_type": "code",
   "execution_count": 16,
   "metadata": {},
   "outputs": [
    {
     "data": {
      "text/plain": [
       "(pneumonia\n",
       " False    0.938232\n",
       " True     0.061768\n",
       " Name: proportion, dtype: float64,\n",
       " pneumonia\n",
       " False    0.981173\n",
       " True     0.018827\n",
       " Name: proportion, dtype: float64)"
      ]
     },
     "execution_count": 16,
     "metadata": {},
     "output_type": "execute_result"
    }
   ],
   "source": [
    "(\n",
    "    phillips_test.pneumonia.value_counts(normalize=True),\n",
    "    imaging_test.pneumonia.value_counts(normalize=True),\n",
    ")"
   ]
  },
  {
   "cell_type": "code",
   "execution_count": 17,
   "metadata": {},
   "outputs": [
    {
     "data": {
      "application/vnd.microsoft.datawrangler.viewer.v0+json": {
       "columns": [
        {
         "name": "pneumonia",
         "rawType": "bool",
         "type": "boolean"
        },
        {
         "name": "proportion",
         "rawType": "float64",
         "type": "float"
        }
       ],
       "ref": "55d1e87d-5396-4198-8b34-bba957818156",
       "rows": [
        [
         "False",
         "0.9616978705159354"
        ],
        [
         "True",
         "0.0383021294840646"
        ]
       ],
       "shape": {
        "columns": 1,
        "rows": 2
       }
      },
      "text/plain": [
       "pneumonia\n",
       "False    0.961698\n",
       "True     0.038302\n",
       "Name: proportion, dtype: float64"
      ]
     },
     "execution_count": 17,
     "metadata": {},
     "output_type": "execute_result"
    }
   ],
   "source": [
    "phillips_test_positive = phillips_test.loc[phillips_test.pneumonia]\n",
    "phillips_test_negative = phillips_test.loc[~phillips_test.pneumonia]\n",
    "test_prev = 0.0384\n",
    "n_phillips_positive = int(test_prev * len(phillips_test_negative) / (1 - test_prev))\n",
    "sub_sampled_phillips = phillips_test_positive.sample(\n",
    "    axis=0, replace=False, n=n_phillips_positive, random_state=33\n",
    ")\n",
    "phillips_prev_adjusted = pd.concat([phillips_test_negative, sub_sampled_phillips])\n",
    "phillips_prev_adjusted.pneumonia.value_counts(normalize=True)"
   ]
  },
  {
   "cell_type": "code",
   "execution_count": 18,
   "metadata": {},
   "outputs": [
    {
     "data": {
      "application/vnd.microsoft.datawrangler.viewer.v0+json": {
       "columns": [
        {
         "name": "pneumonia",
         "rawType": "bool",
         "type": "boolean"
        },
        {
         "name": "proportion",
         "rawType": "float64",
         "type": "float"
        }
       ],
       "ref": "0d3ded6c-5622-424c-b3a1-2cd165f9f7d8",
       "rows": [
        [
         "False",
         "0.9626288659793815"
        ],
        [
         "True",
         "0.037371134020618556"
        ]
       ],
       "shape": {
        "columns": 1,
        "rows": 2
       }
      },
      "text/plain": [
       "pneumonia\n",
       "False    0.962629\n",
       "True     0.037371\n",
       "Name: proportion, dtype: float64"
      ]
     },
     "execution_count": 18,
     "metadata": {},
     "output_type": "execute_result"
    }
   ],
   "source": [
    "# Switch to 90% Phillips\n",
    "\n",
    "n_imaging = 0.1 * (len(phillips_prev_adjusted) / 0.9)\n",
    "n_imaging_positive = int(test_prev * n_imaging)\n",
    "n_imaging_negative = int((1 - test_prev) * n_imaging)\n",
    "\n",
    "imaging_negative = imaging_test.loc[~imaging_test.pneumonia]\n",
    "imaging_positive = imaging_test.loc[imaging_test.pneumonia]\n",
    "\n",
    "sub_sampled_imaging_pos = imaging_positive.sample(\n",
    "    axis=0, replace=False, n=n_imaging_positive, random_state=33\n",
    ")\n",
    "sub_sampled_imaging_neg = imaging_negative.sample(\n",
    "    axis=0, replace=False, n=n_imaging_negative, random_state=33\n",
    ")\n",
    "\n",
    "subsampling_imaging = pd.concat([sub_sampled_imaging_pos, sub_sampled_imaging_neg])\n",
    "subsampling_imaging.pneumonia.value_counts(normalize=True)"
   ]
  },
  {
   "cell_type": "code",
   "execution_count": 19,
   "metadata": {},
   "outputs": [
    {
     "data": {
      "text/plain": [
       "(pneumonia\n",
       " False    0.961791\n",
       " True     0.038209\n",
       " Name: proportion, dtype: float64,\n",
       " Manufacturer\n",
       " Phillips    0.900167\n",
       " Imaging     0.099833\n",
       " Name: proportion, dtype: float64)"
      ]
     },
     "execution_count": 19,
     "metadata": {},
     "output_type": "execute_result"
    }
   ],
   "source": [
    "manufacturer_shift_test = pd.concat([phillips_prev_adjusted, subsampling_imaging])\n",
    "(\n",
    "    manufacturer_shift_test.pneumonia.value_counts(normalize=True),\n",
    "    manufacturer_shift_test[\"Manufacturer\"].value_counts(normalize=True),\n",
    ")"
   ]
  },
  {
   "cell_type": "code",
   "execution_count": 20,
   "metadata": {},
   "outputs": [],
   "source": [
    "manufacturer_shift_test.to_csv(ROOT / \"experiments\" / \"padchest_manufacturer_shift.csv\")"
   ]
  },
  {
   "cell_type": "code",
   "execution_count": 21,
   "metadata": {},
   "outputs": [
    {
     "data": {
      "text/plain": [
       "(Manufacturer\n",
       " Imaging     0.581461\n",
       " Phillips    0.418539\n",
       " Name: proportion, dtype: float64,\n",
       " pneumonia\n",
       " False    0.8\n",
       " True     0.2\n",
       " Name: proportion, dtype: float64)"
      ]
     },
     "execution_count": 21,
     "metadata": {},
     "output_type": "execute_result"
    }
   ],
   "source": [
    "test_prev = 0.20\n",
    "orig_prev_phillips = 0.42\n",
    "\n",
    "len(phillips_test_positive), len(imaging_positive)\n",
    "n_positive_imaging = len(imaging_positive)\n",
    "n_positive_phillips = int(\n",
    "    orig_prev_phillips * n_positive_imaging / (1 - orig_prev_phillips)\n",
    ")\n",
    "n_negative_phillips = int((1 - test_prev) * n_positive_phillips / test_prev)\n",
    "n_negative_imaging = int((1 - test_prev) * n_positive_imaging / test_prev)\n",
    "\n",
    "sub_sampled_phillips_pos = phillips_test_positive.sample(\n",
    "    axis=0, replace=False, n=n_positive_phillips, random_state=33\n",
    ")\n",
    "sub_sampled_phillips_neg = phillips_test_negative.sample(\n",
    "    axis=0, replace=False, n=n_negative_phillips, random_state=33\n",
    ")\n",
    "sub_sampled_imaging_pos = imaging_positive.sample(\n",
    "    axis=0, replace=False, n=n_positive_imaging, random_state=33\n",
    ")\n",
    "sub_sampled_imaging_neg = imaging_negative.sample(\n",
    "    axis=0, replace=False, n=n_negative_imaging, random_state=33\n",
    ")\n",
    "\n",
    "prevalence_shift = pd.concat(\n",
    "    [\n",
    "        sub_sampled_imaging_pos,\n",
    "        sub_sampled_imaging_neg,\n",
    "        sub_sampled_phillips_pos,\n",
    "        sub_sampled_phillips_neg,\n",
    "    ]\n",
    ")\n",
    "(\n",
    "    prevalence_shift.Manufacturer.value_counts(normalize=True),\n",
    "    prevalence_shift.pneumonia.value_counts(normalize=True),\n",
    ")"
   ]
  },
  {
   "cell_type": "code",
   "execution_count": 22,
   "metadata": {},
   "outputs": [],
   "source": [
    "prevalence_shift.to_csv(ROOT / \"experiments\" / \"padchest_prev_shift.csv\")"
   ]
  },
  {
   "cell_type": "code",
   "execution_count": 23,
   "metadata": {},
   "outputs": [
    {
     "data": {
      "text/plain": [
       "(Manufacturer\n",
       " Phillips    0.900407\n",
       " Imaging     0.099593\n",
       " Name: proportion, dtype: float64,\n",
       " pneumonia\n",
       " False    0.8\n",
       " True     0.2\n",
       " Name: proportion, dtype: float64)"
      ]
     },
     "execution_count": 23,
     "metadata": {},
     "output_type": "execute_result"
    }
   ],
   "source": [
    "test_prev = 0.20\n",
    "target_prev_phillips = 0.90\n",
    "\n",
    "len(phillips_test_positive), len(imaging_positive)\n",
    "n_positive_phillips = len(phillips_test_positive)\n",
    "n_positive_imaging = int(\n",
    "    (1 - target_prev_phillips) * n_positive_phillips / target_prev_phillips\n",
    ")\n",
    "n_negative_phillips = int((1 - test_prev) * n_positive_phillips / test_prev)\n",
    "n_negative_imaging = int((1 - test_prev) * n_positive_imaging / test_prev)\n",
    "\n",
    "sub_sampled_phillips_pos = phillips_test_positive.sample(\n",
    "    axis=0, replace=False, n=n_positive_phillips, random_state=33\n",
    ")\n",
    "sub_sampled_phillips_neg = phillips_test_negative.sample(\n",
    "    axis=0, replace=False, n=n_negative_phillips, random_state=33\n",
    ")\n",
    "sub_sampled_imaging_pos = imaging_positive.sample(\n",
    "    axis=0, replace=False, n=n_positive_imaging, random_state=33\n",
    ")\n",
    "sub_sampled_imaging_neg = imaging_negative.sample(\n",
    "    axis=0, replace=False, n=n_negative_imaging, random_state=33\n",
    ")\n",
    "\n",
    "manufacturer_prevalence_shift = pd.concat(\n",
    "    [\n",
    "        sub_sampled_imaging_pos,\n",
    "        sub_sampled_imaging_neg,\n",
    "        sub_sampled_phillips_pos,\n",
    "        sub_sampled_phillips_neg,\n",
    "    ]\n",
    ")\n",
    "(\n",
    "    manufacturer_prevalence_shift.Manufacturer.value_counts(normalize=True),\n",
    "    manufacturer_prevalence_shift.pneumonia.value_counts(normalize=True),\n",
    ")"
   ]
  },
  {
   "cell_type": "code",
   "execution_count": 24,
   "metadata": {},
   "outputs": [],
   "source": [
    "manufacturer_prevalence_shift.to_csv(\n",
    "    ROOT / \"experiments\" / \"padchest_manufactuer_prev_shift.csv\"\n",
    ")"
   ]
  }
 ],
 "metadata": {
  "kernelspec": {
   "display_name": "venv",
   "language": "python",
   "name": "python3"
  },
  "language_info": {
   "codemirror_mode": {
    "name": "ipython",
    "version": 3
   },
   "file_extension": ".py",
   "mimetype": "text/x-python",
   "name": "python",
   "nbconvert_exporter": "python",
   "pygments_lexer": "ipython3",
   "version": "3.12.3"
  }
 },
 "nbformat": 4,
 "nbformat_minor": 2
}
