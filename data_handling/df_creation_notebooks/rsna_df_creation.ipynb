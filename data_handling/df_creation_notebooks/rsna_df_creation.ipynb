{
 "cells": [
  {
   "cell_type": "markdown",
   "metadata": {},
   "source": [
    "# Prepare RSNA Pneumonia splits csv"
   ]
  },
  {
   "cell_type": "code",
   "execution_count": 2,
   "metadata": {},
   "outputs": [],
   "source": [
    "import pandas as pd\n",
    "from sklearn.model_selection import train_test_split\n",
    "import numpy as np"
   ]
  },
  {
   "cell_type": "code",
   "execution_count": 3,
   "metadata": {},
   "outputs": [],
   "source": [
    "df = pd.read_csv(\n",
    "    \"/vol/biomedic3/mb121/shift_identification/data_handling/pneumonia_dataset_with_metadata.csv\"\n",
    ")"
   ]
  },
  {
   "cell_type": "code",
   "execution_count": 8,
   "metadata": {},
   "outputs": [],
   "source": [
    "random_seed_for_splits = 33\n",
    "\n",
    "indices_train_val, indices_test = train_test_split(\n",
    "    np.arange(len(df)),\n",
    "    test_size=0.3,\n",
    "    random_state=random_seed_for_splits,\n",
    ")\n",
    "train_val_df = df.iloc[indices_train_val]\n",
    "test_df = df.iloc[indices_test]\n",
    "\n",
    "# Further split train and val\n",
    "indices_train, indices_val = train_test_split(\n",
    "    np.arange(len(train_val_df)),\n",
    "    test_size=0.2,\n",
    "    random_state=random_seed_for_splits,\n",
    ")\n",
    "\n",
    "train_df = train_val_df.iloc[indices_train]\n",
    "val_df = train_val_df.iloc[indices_val]"
   ]
  },
  {
   "cell_type": "code",
   "execution_count": 10,
   "metadata": {},
   "outputs": [],
   "source": [
    "train_df.to_csv(\"/vol/biomedic3/mb121/shift_identification/experiments/train_rsna.csv\")\n",
    "val_df.to_csv(\"/vol/biomedic3/mb121/shift_identification/experiments/val_rsna.csv\")\n",
    "test_df[\"idx_in_original_test\"] = np.arange(len(test_df))\n",
    "test_df.to_csv(\"/vol/biomedic3/mb121/shift_identification/experiments/test_rsna.csv\")"
   ]
  }
 ],
 "metadata": {
  "kernelspec": {
   "display_name": "causalnew",
   "language": "python",
   "name": "python3"
  },
  "language_info": {
   "codemirror_mode": {
    "name": "ipython",
    "version": 3
   },
   "file_extension": ".py",
   "mimetype": "text/x-python",
   "name": "python",
   "nbconvert_exporter": "python",
   "pygments_lexer": "ipython3",
   "version": "3.11.5"
  }
 },
 "nbformat": 4,
 "nbformat_minor": 2
}
